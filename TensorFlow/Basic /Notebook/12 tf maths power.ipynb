{
 "cells": [
  {
   "cell_type": "markdown",
   "id": "ef89ad00-20c6-4161-b2af-0b0dc6e3bdd7",
   "metadata": {},
   "source": [
    "# How To Calculate Power Of Tensors In TensorFlow?"
   ]
  },
  {
   "cell_type": "markdown",
   "id": "335f6bc2-916e-41ed-aab4-b5b0976c3364",
   "metadata": {},
   "source": [
    "**tf.pow():** Calculate the power of one value to another, Element wise power calculation\n",
    "It can be given the power of scaler, Numpy array\n",
    "It allow tf variable/constant/placeholder/SparceMatrix with Specific datatype\n",
    "\n",
    "Data Type : float16, float32, float64, int32, int64, complex64, or complex128.\n",
    "\n",
    "**Note:** Don’t pass data in integer format, it will through error"
   ]
  },
  {
   "cell_type": "code",
   "execution_count": 1,
   "id": "e7d14853-fb26-40dd-84e9-b2dd3317012a",
   "metadata": {},
   "outputs": [
    {
     "name": "stderr",
     "output_type": "stream",
     "text": [
      "2024-04-23 11:24:15.172014: I tensorflow/core/platform/cpu_feature_guard.cc:182] This TensorFlow binary is optimized to use available CPU instructions in performance-critical operations.\n",
      "To enable the following instructions: SSE4.1 SSE4.2 AVX AVX2 FMA, in other operations, rebuild TensorFlow with the appropriate compiler flags.\n"
     ]
    }
   ],
   "source": [
    "# Import the Module\n",
    "import tensorflow as tf\n",
    "import numpy as np"
   ]
  },
  {
   "cell_type": "markdown",
   "id": "4e92c79c-dc8a-4bdf-a41c-0b07362eb999",
   "metadata": {},
   "source": [
    "## Power of Scaler"
   ]
  },
  {
   "cell_type": "code",
   "execution_count": 16,
   "id": "454be6d6-cfbb-49a3-b745-a554ebec48dc",
   "metadata": {},
   "outputs": [
    {
     "data": {
      "text/plain": [
       "<tf.Tensor: shape=(), dtype=int32, numpy=4>"
      ]
     },
     "execution_count": 16,
     "metadata": {},
     "output_type": "execute_result"
    }
   ],
   "source": [
    "a = 2\n",
    "b = 2\n",
    "\n",
    "tf.pow(a, b)"
   ]
  },
  {
   "cell_type": "markdown",
   "id": "a5d1657a-16cb-418c-a682-241019a73832",
   "metadata": {},
   "source": [
    "## Power of Numpy array"
   ]
  },
  {
   "cell_type": "code",
   "execution_count": 18,
   "id": "0958c576-9892-4933-854e-741a609fd430",
   "metadata": {},
   "outputs": [
    {
     "data": {
      "text/plain": [
       "<tf.Tensor: shape=(3,), dtype=float64, numpy=array([ 4.,  9., 16.])>"
      ]
     },
     "execution_count": 18,
     "metadata": {},
     "output_type": "execute_result"
    }
   ],
   "source": [
    "npa1 = np.array([2,3,4], dtype=np.float64)\n",
    "\n",
    "tf.pow(npa1, 2)"
   ]
  },
  {
   "cell_type": "code",
   "execution_count": 19,
   "id": "d2deba98-78a3-4cc9-ab24-25cbda7456ef",
   "metadata": {},
   "outputs": [
    {
     "data": {
      "text/plain": [
       "<tf.Tensor: shape=(3,), dtype=float64, numpy=array([  4.,  27., 256.])>"
      ]
     },
     "execution_count": 19,
     "metadata": {},
     "output_type": "execute_result"
    }
   ],
   "source": [
    "npa1 = np.array([2,3,4], dtype=np.float64)\n",
    "npa2 = np.array([2,3,4], dtype=np.float64)\n",
    "\n",
    "tf.pow(npa1, npa2)"
   ]
  },
  {
   "cell_type": "markdown",
   "id": "62b2ec66-1b92-4c08-80db-5b12c76e728d",
   "metadata": {},
   "source": [
    "## Power of TF Constant Tensor"
   ]
  },
  {
   "cell_type": "code",
   "execution_count": 22,
   "id": "4e6635fa-c3f3-4bcf-82a0-9f760391bacc",
   "metadata": {},
   "outputs": [
    {
     "data": {
      "text/plain": [
       "<tf.Tensor: shape=(2,), dtype=int32, numpy=array([4, 4], dtype=int32)>"
      ]
     },
     "execution_count": 22,
     "metadata": {},
     "output_type": "execute_result"
    }
   ],
   "source": [
    "tf_c1 = tf.constant([2,2])\n",
    "\n",
    "tf.pow(tf_c1, 2)"
   ]
  },
  {
   "cell_type": "markdown",
   "id": "8d92ef5b-880d-4697-87dd-19cd5d2c0dee",
   "metadata": {},
   "source": [
    "## Power of TF Variable Tensor"
   ]
  },
  {
   "cell_type": "code",
   "execution_count": 24,
   "id": "8c9ddd2c-aa85-4149-9c74-e0da15efa51e",
   "metadata": {},
   "outputs": [
    {
     "data": {
      "text/plain": [
       "<tf.Tensor: shape=(2,), dtype=int32, numpy=array([4, 4], dtype=int32)>"
      ]
     },
     "execution_count": 24,
     "metadata": {},
     "output_type": "execute_result"
    }
   ],
   "source": [
    "tf_v1 = tf.Variable([2,2])\n",
    "\n",
    "tf.pow(tf_v1, 2)"
   ]
  },
  {
   "cell_type": "code",
   "execution_count": null,
   "id": "855305d0-3c3d-4d30-a1d0-3d0c2d9fd842",
   "metadata": {},
   "outputs": [],
   "source": []
  }
 ],
 "metadata": {
  "kernelspec": {
   "display_name": "Python 3 (ipykernel)",
   "language": "python",
   "name": "python3"
  },
  "language_info": {
   "codemirror_mode": {
    "name": "ipython",
    "version": 3
   },
   "file_extension": ".py",
   "mimetype": "text/x-python",
   "name": "python",
   "nbconvert_exporter": "python",
   "pygments_lexer": "ipython3",
   "version": "3.11.5"
  }
 },
 "nbformat": 4,
 "nbformat_minor": 5
}
