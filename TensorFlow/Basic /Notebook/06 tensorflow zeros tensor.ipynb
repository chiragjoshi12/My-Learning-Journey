{
 "cells": [
  {
   "cell_type": "markdown",
   "id": "150392c4-22c9-454d-bb9f-11efb2763650",
   "metadata": {},
   "source": [
    "# How to create Tensor with every elements are zero in TensorFlow 2.x"
   ]
  },
  {
   "cell_type": "code",
   "execution_count": 1,
   "id": "f7c15133-c530-4e74-a913-9cf776d62e95",
   "metadata": {},
   "outputs": [
    {
     "name": "stderr",
     "output_type": "stream",
     "text": [
      "2024-04-20 22:30:13.961742: I tensorflow/core/platform/cpu_feature_guard.cc:182] This TensorFlow binary is optimized to use available CPU instructions in performance-critical operations.\n",
      "To enable the following instructions: SSE4.1 SSE4.2 AVX AVX2 FMA, in other operations, rebuild TensorFlow with the appropriate compiler flags.\n"
     ]
    }
   ],
   "source": [
    "# import tensorflow\n",
    "\n",
    "import tensorflow as tf"
   ]
  },
  {
   "cell_type": "markdown",
   "id": "7645dae4-40d6-4e1d-bb27-6661a9d93d89",
   "metadata": {},
   "source": [
    "## tf.zeros()"
   ]
  },
  {
   "cell_type": "code",
   "execution_count": 12,
   "id": "13e7803e-1a92-4f8b-9b34-9923cbda4342",
   "metadata": {},
   "outputs": [
    {
     "data": {
      "text/plain": [
       "<tf.Tensor: shape=(3, 4), dtype=float32, numpy=\n",
       "array([[0., 0., 0., 0.],\n",
       "       [0., 0., 0., 0.],\n",
       "       [0., 0., 0., 0.]], dtype=float32)>"
      ]
     },
     "execution_count": 12,
     "metadata": {},
     "output_type": "execute_result"
    }
   ],
   "source": [
    "zeros_2dt = tf.zeros((3,4))\n",
    "zeros_2dt"
   ]
  },
  {
   "cell_type": "code",
   "execution_count": 26,
   "id": "cc7a0ee5-4733-4a94-86c2-9ac8c533c4e8",
   "metadata": {},
   "outputs": [
    {
     "data": {
      "text/plain": [
       "<tf.Tensor: shape=(2, 2, 3, 4), dtype=int8, numpy=\n",
       "array([[[[0, 0, 0, 0],\n",
       "         [0, 0, 0, 0],\n",
       "         [0, 0, 0, 0]],\n",
       "\n",
       "        [[0, 0, 0, 0],\n",
       "         [0, 0, 0, 0],\n",
       "         [0, 0, 0, 0]]],\n",
       "\n",
       "\n",
       "       [[[0, 0, 0, 0],\n",
       "         [0, 0, 0, 0],\n",
       "         [0, 0, 0, 0]],\n",
       "\n",
       "        [[0, 0, 0, 0],\n",
       "         [0, 0, 0, 0],\n",
       "         [0, 0, 0, 0]]]], dtype=int8)>"
      ]
     },
     "execution_count": 26,
     "metadata": {},
     "output_type": "execute_result"
    }
   ],
   "source": [
    "zeros_3dt = tf.zeros((2,2,3,4), dtype=tf.int8)\n",
    "zeros_3dt"
   ]
  },
  {
   "cell_type": "code",
   "execution_count": 27,
   "id": "3835eba5-7eec-4f45-8718-b64e45d9668f",
   "metadata": {},
   "outputs": [
    {
     "data": {
      "text/plain": [
       "TensorShape([2, 2, 3, 4])"
      ]
     },
     "execution_count": 27,
     "metadata": {},
     "output_type": "execute_result"
    }
   ],
   "source": [
    "zeros_3dt.shape"
   ]
  },
  {
   "cell_type": "code",
   "execution_count": 28,
   "id": "531a7746-4863-4224-9b09-663beaff797d",
   "metadata": {},
   "outputs": [
    {
     "data": {
      "text/plain": [
       "tf.int8"
      ]
     },
     "execution_count": 28,
     "metadata": {},
     "output_type": "execute_result"
    }
   ],
   "source": [
    "zeros_3dt.dtype"
   ]
  },
  {
   "cell_type": "code",
   "execution_count": 29,
   "id": "94365a64-895f-475a-a1f3-50453b65217b",
   "metadata": {},
   "outputs": [
    {
     "data": {
      "text/plain": [
       "array([[[[0, 0, 0, 0],\n",
       "         [0, 0, 0, 0],\n",
       "         [0, 0, 0, 0]],\n",
       "\n",
       "        [[0, 0, 0, 0],\n",
       "         [0, 0, 0, 0],\n",
       "         [0, 0, 0, 0]]],\n",
       "\n",
       "\n",
       "       [[[0, 0, 0, 0],\n",
       "         [0, 0, 0, 0],\n",
       "         [0, 0, 0, 0]],\n",
       "\n",
       "        [[0, 0, 0, 0],\n",
       "         [0, 0, 0, 0],\n",
       "         [0, 0, 0, 0]]]], dtype=int8)"
      ]
     },
     "execution_count": 29,
     "metadata": {},
     "output_type": "execute_result"
    }
   ],
   "source": [
    "zeros_3dt.numpy()"
   ]
  },
  {
   "cell_type": "code",
   "execution_count": 30,
   "id": "cadc06b1-cb23-4beb-8728-7c2f6678b4b4",
   "metadata": {},
   "outputs": [
    {
     "data": {
      "text/plain": [
       "[[[[0, 0, 0, 0], [0, 0, 0, 0], [0, 0, 0, 0]],\n",
       "  [[0, 0, 0, 0], [0, 0, 0, 0], [0, 0, 0, 0]]],\n",
       " [[[0, 0, 0, 0], [0, 0, 0, 0], [0, 0, 0, 0]],\n",
       "  [[0, 0, 0, 0], [0, 0, 0, 0], [0, 0, 0, 0]]]]"
      ]
     },
     "execution_count": 30,
     "metadata": {},
     "output_type": "execute_result"
    }
   ],
   "source": [
    "zeros_3dt.numpy().tolist()"
   ]
  },
  {
   "cell_type": "markdown",
   "id": "9717ed6d-722f-4f5f-9b55-39369512b561",
   "metadata": {},
   "source": [
    "## tf.zeros_like()\n",
    "\n",
    "we don't have shape of Tensor"
   ]
  },
  {
   "cell_type": "code",
   "execution_count": 36,
   "id": "5962c772-5a61-42a4-a386-b6ede96dc313",
   "metadata": {},
   "outputs": [
    {
     "data": {
      "text/plain": [
       "<tf.Variable 'Variable:0' shape=(2, 2) dtype=int32, numpy=\n",
       "array([[1, 2],\n",
       "       [2, 3]], dtype=int32)>"
      ]
     },
     "execution_count": 36,
     "metadata": {},
     "output_type": "execute_result"
    }
   ],
   "source": [
    "var_2dt = tf.Variable([[1,2],[2,3]])\n",
    "var_2dt"
   ]
  },
  {
   "cell_type": "code",
   "execution_count": 38,
   "id": "f93d6eb8-3948-4604-855d-2e8700f0e614",
   "metadata": {},
   "outputs": [
    {
     "data": {
      "text/plain": [
       "<tf.Tensor: shape=(2, 2), dtype=int32, numpy=\n",
       "array([[0, 0],\n",
       "       [0, 0]], dtype=int32)>"
      ]
     },
     "execution_count": 38,
     "metadata": {},
     "output_type": "execute_result"
    }
   ],
   "source": [
    "zl_2dt_from_var = tf.zeros_like(var_2dt)\n",
    "zl_2dt_from_var"
   ]
  },
  {
   "cell_type": "code",
   "execution_count": 39,
   "id": "d6096a88-1f5d-4b52-81af-087f1cb27b24",
   "metadata": {},
   "outputs": [
    {
     "data": {
      "text/plain": [
       "TensorShape([2, 2])"
      ]
     },
     "execution_count": 39,
     "metadata": {},
     "output_type": "execute_result"
    }
   ],
   "source": [
    "zl_2dt_from_var.shape"
   ]
  },
  {
   "cell_type": "code",
   "execution_count": 41,
   "id": "f8f9680f-2027-45b1-bd28-c43af82d7b68",
   "metadata": {},
   "outputs": [
    {
     "data": {
      "text/plain": [
       "tf.int32"
      ]
     },
     "execution_count": 41,
     "metadata": {},
     "output_type": "execute_result"
    }
   ],
   "source": [
    "zl_2dt_from_var.dtype"
   ]
  },
  {
   "cell_type": "markdown",
   "id": "633aa846-7a0b-440b-b8d4-4a477d91e437",
   "metadata": {},
   "source": [
    "## tf.zeros_initializer()"
   ]
  },
  {
   "cell_type": "code",
   "execution_count": 43,
   "id": "90cb25c1-eeb5-4762-b1e1-22551b8c1249",
   "metadata": {},
   "outputs": [],
   "source": [
    "def zeros_variable(shape, dtype, initializer):\n",
    "    return tf.Variable(initializer(shape=shape, dtype=dtype))"
   ]
  },
  {
   "cell_type": "code",
   "execution_count": 45,
   "id": "388728f8-bf9b-40bc-8178-137656a45600",
   "metadata": {},
   "outputs": [],
   "source": [
    "zi_t_v = zeros_variable((2,2), tf.float32, tf.zeros_initializer())"
   ]
  },
  {
   "cell_type": "code",
   "execution_count": 46,
   "id": "382683f6-d5f9-43e7-95c3-382a4b55a7d7",
   "metadata": {},
   "outputs": [
    {
     "data": {
      "text/plain": [
       "<tf.Variable 'Variable:0' shape=(2, 2) dtype=float32, numpy=\n",
       "array([[0., 0.],\n",
       "       [0., 0.]], dtype=float32)>"
      ]
     },
     "execution_count": 46,
     "metadata": {},
     "output_type": "execute_result"
    }
   ],
   "source": [
    "zi_t_v"
   ]
  },
  {
   "cell_type": "code",
   "execution_count": 50,
   "id": "0de8201c-f676-43cf-99bb-db737ad5333a",
   "metadata": {},
   "outputs": [
    {
     "data": {
      "text/plain": [
       "<tf.Variable 'Variable:0' shape=(3, 3, 3) dtype=bool, numpy=\n",
       "array([[[False, False, False],\n",
       "        [False, False, False],\n",
       "        [False, False, False]],\n",
       "\n",
       "       [[False, False, False],\n",
       "        [False, False, False],\n",
       "        [False, False, False]],\n",
       "\n",
       "       [[False, False, False],\n",
       "        [False, False, False],\n",
       "        [False, False, False]]])>"
      ]
     },
     "execution_count": 50,
     "metadata": {},
     "output_type": "execute_result"
    }
   ],
   "source": [
    "zeros_variable((3,3,3), tf.bool, tf.zeros_initializer())"
   ]
  },
  {
   "cell_type": "code",
   "execution_count": null,
   "id": "de886ff5-b7bc-4361-8449-4e7858962930",
   "metadata": {},
   "outputs": [],
   "source": []
  }
 ],
 "metadata": {
  "kernelspec": {
   "display_name": "Python 3 (ipykernel)",
   "language": "python",
   "name": "python3"
  },
  "language_info": {
   "codemirror_mode": {
    "name": "ipython",
    "version": 3
   },
   "file_extension": ".py",
   "mimetype": "text/x-python",
   "name": "python",
   "nbconvert_exporter": "python",
   "pygments_lexer": "ipython3",
   "version": "3.11.5"
  }
 },
 "nbformat": 4,
 "nbformat_minor": 5
}
