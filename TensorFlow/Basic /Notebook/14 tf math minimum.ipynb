{
 "cells": [
  {
   "cell_type": "markdown",
   "id": "dd3a622d-84f7-4e4b-95f7-a2d0613d6945",
   "metadata": {},
   "source": [
    "# How To Get Maximum Value From Tensors In TensorFlow?"
   ]
  },
  {
   "cell_type": "markdown",
   "id": "3f70b36d-5136-4f09-b31d-ccc6bd122895",
   "metadata": {},
   "source": [
    "**tf.maximum() :** Returns the maximum value by comparing of x and y (i.e. x > y ? x : y) element-wise.<br>\n",
    "It work with list, tuple, scaler, Numpy array<br>\n",
    "tf variable/constant/placeholder/SparceMatrix with each other and with scaler and with list/tuple"
   ]
  },
  {
   "cell_type": "code",
   "execution_count": 11,
   "id": "d6ae2268-1733-4d76-ac6b-7d4e6b2a6935",
   "metadata": {},
   "outputs": [],
   "source": [
    "# Import module\n",
    "import tensorflow as tf\n",
    "import numpy as np"
   ]
  },
  {
   "cell_type": "markdown",
   "id": "114fcf01-31eb-4093-b5f2-f73003c20ec5",
   "metadata": {},
   "source": [
    "## Get max value of Scaler"
   ]
  },
  {
   "cell_type": "code",
   "execution_count": 12,
   "id": "83a4151c-5488-411e-a041-9ea3ecb07b74",
   "metadata": {},
   "outputs": [
    {
     "data": {
      "text/plain": [
       "<tf.Tensor: shape=(), dtype=int32, numpy=19>"
      ]
     },
     "execution_count": 12,
     "metadata": {},
     "output_type": "execute_result"
    }
   ],
   "source": [
    "a = 15\n",
    "b = 19\n",
    "\n",
    "tf.minimum(a, b)"
   ]
  },
  {
   "cell_type": "markdown",
   "id": "b7cd8d35-242d-4af2-bd98-f11ec02c42ee",
   "metadata": {},
   "source": [
    "## Get max value of List"
   ]
  },
  {
   "cell_type": "code",
   "execution_count": 13,
   "id": "454a4a9a-f386-42cb-ab02-7a3d70e41512",
   "metadata": {},
   "outputs": [
    {
     "data": {
      "text/plain": [
       "<tf.Tensor: shape=(3,), dtype=int32, numpy=array([22, 15, 30], dtype=int32)>"
      ]
     },
     "execution_count": 13,
     "metadata": {},
     "output_type": "execute_result"
    }
   ],
   "source": [
    "l1 = [10,15,10]\n",
    "l2 = [22,8,30]\n",
    "\n",
    "tf.minimum(l1, l2)"
   ]
  },
  {
   "cell_type": "code",
   "execution_count": 14,
   "id": "9998c5b4-12c8-419f-a96f-0801bba9cc37",
   "metadata": {},
   "outputs": [
    {
     "data": {
      "text/plain": [
       "<tf.Tensor: shape=(3,), dtype=int32, numpy=array([10,  7, 10], dtype=int32)>"
      ]
     },
     "execution_count": 14,
     "metadata": {},
     "output_type": "execute_result"
    }
   ],
   "source": [
    "l1 = [10,6,10]\n",
    "l2 = [7]\n",
    "\n",
    "tf.minimum(l1, l2)"
   ]
  },
  {
   "cell_type": "markdown",
   "id": "795104cd-dbd6-4767-a01f-87ecaf94059e",
   "metadata": {},
   "source": [
    "## Get max value of Tuple"
   ]
  },
  {
   "cell_type": "code",
   "execution_count": 15,
   "id": "812d4551-6543-463b-b943-f91adf2ce80d",
   "metadata": {},
   "outputs": [
    {
     "data": {
      "text/plain": [
       "<tf.Tensor: shape=(3,), dtype=int32, numpy=array([22, 15, 30], dtype=int32)>"
      ]
     },
     "execution_count": 15,
     "metadata": {},
     "output_type": "execute_result"
    }
   ],
   "source": [
    "t1 = (10,15,10)\n",
    "t2 = (22,8,30)\n",
    "\n",
    "tf.minimum(t1, t2)"
   ]
  },
  {
   "cell_type": "code",
   "execution_count": 16,
   "id": "00161f9e-dff5-4729-bc30-a5893396965e",
   "metadata": {},
   "outputs": [
    {
     "data": {
      "text/plain": [
       "array([10,  7, 10], dtype=int32)"
      ]
     },
     "execution_count": 16,
     "metadata": {},
     "output_type": "execute_result"
    }
   ],
   "source": [
    "tf.minimum(l1, l2).numpy()"
   ]
  },
  {
   "cell_type": "markdown",
   "id": "01b88f8a-7c07-424f-a2c2-48a30b1946c8",
   "metadata": {},
   "source": [
    "## Get max value of Tuple/List with Scaler"
   ]
  },
  {
   "cell_type": "code",
   "execution_count": 17,
   "id": "79dd5133-4fa5-4d43-8a33-b5e64ec0dd3a",
   "metadata": {},
   "outputs": [
    {
     "data": {
      "text/plain": [
       "<tf.Tensor: shape=(3,), dtype=int32, numpy=array([10,  1, 10], dtype=int32)>"
      ]
     },
     "execution_count": 17,
     "metadata": {},
     "output_type": "execute_result"
    }
   ],
   "source": [
    "t1 = (10,0,10)\n",
    "a = 1\n",
    "\n",
    "tf.minimum(t1, a)"
   ]
  },
  {
   "cell_type": "code",
   "execution_count": 18,
   "id": "3a520e8f-308a-42f6-b551-d3995abba813",
   "metadata": {},
   "outputs": [
    {
     "data": {
      "text/plain": [
       "<tf.Tensor: shape=(3,), dtype=int32, numpy=array([10,  1, 10], dtype=int32)>"
      ]
     },
     "execution_count": 18,
     "metadata": {},
     "output_type": "execute_result"
    }
   ],
   "source": [
    "l1 = [10,0,10]\n",
    "a = 1\n",
    "\n",
    "tf.minimum(l1, a)"
   ]
  },
  {
   "cell_type": "markdown",
   "id": "7feac2d4-0c6b-4931-847b-5ce4b61e2b9b",
   "metadata": {},
   "source": [
    "## Get max value of 2 Numpy arrays"
   ]
  },
  {
   "cell_type": "code",
   "execution_count": 19,
   "id": "1f4502f3-9618-4611-98c9-2f31e9b8ba9b",
   "metadata": {},
   "outputs": [
    {
     "data": {
      "text/plain": [
       "<tf.Tensor: shape=(3,), dtype=int64, numpy=array([22, 15, 30])>"
      ]
     },
     "execution_count": 19,
     "metadata": {},
     "output_type": "execute_result"
    }
   ],
   "source": [
    "npa1 = np.array([10,15,10])\n",
    "npa2 = np.array([22,8,30])\n",
    "\n",
    "tf.minimum(npa1, npa2)"
   ]
  },
  {
   "cell_type": "markdown",
   "id": "ccb71a46-8553-48b7-8b90-44063008c093",
   "metadata": {},
   "source": [
    "## Get max value of 2 TF Variable "
   ]
  },
  {
   "cell_type": "code",
   "execution_count": 21,
   "id": "fa253a4a-05be-483a-81da-9a6277e1c4cb",
   "metadata": {},
   "outputs": [
    {
     "data": {
      "text/plain": [
       "<tf.Tensor: shape=(3,), dtype=int32, numpy=array([4, 5, 6], dtype=int32)>"
      ]
     },
     "execution_count": 21,
     "metadata": {},
     "output_type": "execute_result"
    }
   ],
   "source": [
    "tf_v1 = tf.Variable([2,2,3])\n",
    "tf_v2 = tf.Variable([4,5,6])\n",
    "\n",
    "tf.minimum(tf_v1, tf_v2)"
   ]
  },
  {
   "cell_type": "markdown",
   "id": "311d3c17-8487-4b63-be46-b42951219b21",
   "metadata": {},
   "source": [
    "## Get max value of 2 TF Constant"
   ]
  },
  {
   "cell_type": "code",
   "execution_count": 23,
   "id": "43e4c607-e53d-4427-95ca-3521f3386f82",
   "metadata": {},
   "outputs": [
    {
     "data": {
      "text/plain": [
       "<tf.Tensor: shape=(2,), dtype=int32, numpy=array([4, 4], dtype=int32)>"
      ]
     },
     "execution_count": 23,
     "metadata": {},
     "output_type": "execute_result"
    }
   ],
   "source": [
    "tf_c1 = tf.constant([2,4])\n",
    "tf_c2 = tf.constant([4,2])\n",
    "\n",
    "tf.minimum(tf_c1, tf_c2)"
   ]
  },
  {
   "cell_type": "code",
   "execution_count": null,
   "id": "dfde70fe-f170-4c3e-9956-86e001314029",
   "metadata": {},
   "outputs": [],
   "source": []
  }
 ],
 "metadata": {
  "kernelspec": {
   "display_name": "Python 3 (ipykernel)",
   "language": "python",
   "name": "python3"
  },
  "language_info": {
   "codemirror_mode": {
    "name": "ipython",
    "version": 3
   },
   "file_extension": ".py",
   "mimetype": "text/x-python",
   "name": "python",
   "nbconvert_exporter": "python",
   "pygments_lexer": "ipython3",
   "version": "3.11.5"
  }
 },
 "nbformat": 4,
 "nbformat_minor": 5
}
