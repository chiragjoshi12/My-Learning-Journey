{
 "cells": [
  {
   "cell_type": "markdown",
   "id": "96546692-60d3-4567-ac93-9040df843a26",
   "metadata": {},
   "source": [
    "# How To Addition/Add 2 Tensors In TensorFlow?"
   ]
  },
  {
   "cell_type": "markdown",
   "id": "55f52a66-1d39-4c9d-b41c-4843b034cc2b",
   "metadata": {},
   "source": [
    "**tf.add() : Do Element wise Addition with x & y**\n",
    "\n",
    "It can add list, tuple, scaler, <br>\n",
    "TensorFlow variable/constant/placeholder/SparceMatrix with each other and with scaler and with list/tuple."
   ]
  },
  {
   "cell_type": "code",
   "execution_count": 1,
   "id": "1351c02e-796e-4590-9026-3183789f7965",
   "metadata": {},
   "outputs": [
    {
     "name": "stderr",
     "output_type": "stream",
     "text": [
      "2024-04-22 15:55:49.787707: I tensorflow/core/platform/cpu_feature_guard.cc:182] This TensorFlow binary is optimized to use available CPU instructions in performance-critical operations.\n",
      "To enable the following instructions: SSE4.1 SSE4.2 AVX AVX2 FMA, in other operations, rebuild TensorFlow with the appropriate compiler flags.\n"
     ]
    }
   ],
   "source": [
    "# import module\n",
    "import tensorflow as tf\n",
    "import numpy as np"
   ]
  },
  {
   "cell_type": "markdown",
   "id": "2151f010-4bf2-46a9-a4d7-5dddee5f6e95",
   "metadata": {},
   "source": [
    "## Scaler Adding"
   ]
  },
  {
   "cell_type": "code",
   "execution_count": 2,
   "id": "a43ab2ee-1fad-45a1-9a6d-69ac7bd4e82a",
   "metadata": {},
   "outputs": [],
   "source": [
    "a = 20\n",
    "b = 30"
   ]
  },
  {
   "cell_type": "code",
   "execution_count": 3,
   "id": "addc1433-519f-47b2-9e0e-27f0cf544bd5",
   "metadata": {},
   "outputs": [
    {
     "data": {
      "text/plain": [
       "50"
      ]
     },
     "execution_count": 3,
     "metadata": {},
     "output_type": "execute_result"
    }
   ],
   "source": [
    "a+b"
   ]
  },
  {
   "cell_type": "code",
   "execution_count": 4,
   "id": "fb0a2a8a-7548-4c35-b21f-19c062168817",
   "metadata": {},
   "outputs": [
    {
     "data": {
      "text/plain": [
       "<tf.Tensor: shape=(), dtype=int32, numpy=50>"
      ]
     },
     "execution_count": 4,
     "metadata": {},
     "output_type": "execute_result"
    }
   ],
   "source": [
    "tf.add(a,b)"
   ]
  },
  {
   "cell_type": "markdown",
   "id": "ca8a0ffe-22ef-4f25-9ad8-1364ebb83ee0",
   "metadata": {},
   "source": [
    "## Add 2 List"
   ]
  },
  {
   "cell_type": "code",
   "execution_count": 5,
   "id": "b32f8258-de2a-4b33-9c4e-7c16368ae8c1",
   "metadata": {},
   "outputs": [
    {
     "data": {
      "text/plain": [
       "<tf.Tensor: shape=(4,), dtype=int32, numpy=array([13, 12, 13,  7], dtype=int32)>"
      ]
     },
     "execution_count": 5,
     "metadata": {},
     "output_type": "execute_result"
    }
   ],
   "source": [
    "l1 = [4,4,5,6]\n",
    "l2 = [9,8,8,1]\n",
    "\n",
    "tf.add(l1,l2)"
   ]
  },
  {
   "cell_type": "markdown",
   "id": "81bd8d22-c378-431b-b07c-c5f578848543",
   "metadata": {},
   "source": [
    "## Add Tuple"
   ]
  },
  {
   "cell_type": "code",
   "execution_count": 6,
   "id": "b90fb953-cf88-41b6-8929-fc243820b52c",
   "metadata": {},
   "outputs": [
    {
     "data": {
      "text/plain": [
       "<tf.Tensor: shape=(3,), dtype=int32, numpy=array([5, 7, 9], dtype=int32)>"
      ]
     },
     "execution_count": 6,
     "metadata": {},
     "output_type": "execute_result"
    }
   ],
   "source": [
    "t1 = (1,2,3)\n",
    "t2 = (4,5,6)\n",
    "\n",
    "tf.add(t1,t2)"
   ]
  },
  {
   "cell_type": "markdown",
   "id": "3cfe182c-59fd-4b8d-9e26-a2b72b762394",
   "metadata": {},
   "source": [
    "## Add List/Tuple with scaler"
   ]
  },
  {
   "cell_type": "code",
   "execution_count": 7,
   "id": "dc081c93-3a97-4503-a41a-e9530c0dc9e2",
   "metadata": {},
   "outputs": [
    {
     "data": {
      "text/plain": [
       "<tf.Tensor: shape=(4,), dtype=int32, numpy=array([ 5,  6,  8, 10], dtype=int32)>"
      ]
     },
     "execution_count": 7,
     "metadata": {},
     "output_type": "execute_result"
    }
   ],
   "source": [
    "l1 = [4,4,5,6]\n",
    "t1 = (1,2,3,4)\n",
    "\n",
    "tf.add(l1,t1)"
   ]
  },
  {
   "cell_type": "markdown",
   "id": "db638bf4-ea03-497d-ae2d-bf92e66f7f4c",
   "metadata": {},
   "source": [
    "## Add 2 Numpy array"
   ]
  },
  {
   "cell_type": "code",
   "execution_count": 8,
   "id": "193aa1cd-d014-448a-a965-e36a578aaad4",
   "metadata": {},
   "outputs": [
    {
     "data": {
      "text/plain": [
       "<tf.Tensor: shape=(4,), dtype=int64, numpy=array([2, 4, 6, 8])>"
      ]
     },
     "execution_count": 8,
     "metadata": {},
     "output_type": "execute_result"
    }
   ],
   "source": [
    "npa1 = np.array([1,2,3,4])\n",
    "npa2 = np.array([1,2,3,4])\n",
    "\n",
    "tf.add(npa1,npa2)"
   ]
  },
  {
   "cell_type": "markdown",
   "id": "ecc621e5-4a8d-4142-8be9-d1d4101963a9",
   "metadata": {},
   "source": [
    "## Add 2 tf.ones()"
   ]
  },
  {
   "cell_type": "code",
   "execution_count": 9,
   "id": "485fec48-d309-4534-90b3-779565f20fc3",
   "metadata": {},
   "outputs": [
    {
     "data": {
      "text/plain": [
       "<tf.Tensor: shape=(3, 2), dtype=float32, numpy=\n",
       "array([[2., 2.],\n",
       "       [2., 2.],\n",
       "       [2., 2.]], dtype=float32)>"
      ]
     },
     "execution_count": 9,
     "metadata": {},
     "output_type": "execute_result"
    }
   ],
   "source": [
    "to1 = tf.ones((3,2))\n",
    "to2 = tf.ones((3,2))\n",
    "\n",
    "tf.add(to1, to2)"
   ]
  },
  {
   "cell_type": "code",
   "execution_count": null,
   "id": "2a88a94b-539c-4a9a-aa15-30dc8bed4d69",
   "metadata": {},
   "outputs": [],
   "source": []
  },
  {
   "cell_type": "code",
   "execution_count": null,
   "id": "7cff7b11-9a74-49a6-8eec-4e171c9ce297",
   "metadata": {},
   "outputs": [],
   "source": []
  }
 ],
 "metadata": {
  "kernelspec": {
   "display_name": "Python 3 (ipykernel)",
   "language": "python",
   "name": "python3"
  },
  "language_info": {
   "codemirror_mode": {
    "name": "ipython",
    "version": 3
   },
   "file_extension": ".py",
   "mimetype": "text/x-python",
   "name": "python",
   "nbconvert_exporter": "python",
   "pygments_lexer": "ipython3",
   "version": "3.11.5"
  }
 },
 "nbformat": 4,
 "nbformat_minor": 5
}
