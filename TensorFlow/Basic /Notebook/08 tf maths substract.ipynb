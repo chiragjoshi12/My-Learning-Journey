{
 "cells": [
  {
   "cell_type": "markdown",
   "id": "4b770125-ab04-4a79-8ff1-a24732f9aaae",
   "metadata": {},
   "source": [
    "# How to subtract of 2 Tensot in TensorFlow ?"
   ]
  },
  {
   "cell_type": "markdown",
   "id": "df3bcf0a-8ad3-4efa-9dd2-45c443b086c9",
   "metadata": {},
   "source": [
    "#### **tf.subtract() : Do Element wise subtraction with x & y**\n",
    "It can subtract list, tuple, scaler, TensorFlow variable/constant/placeholder/SparceMatrix with each other and with scaler and with list/tuple.\n",
    "\n",
    "Note: – operator can be used to subtract 2 tensors\n",
    "\n",
    "**Syntax: tf.subtract(x, y, name=None)**"
   ]
  },
  {
   "cell_type": "code",
   "execution_count": 1,
   "id": "47deb351-074c-48a5-ba40-6ebd9ffb8ebe",
   "metadata": {},
   "outputs": [
    {
     "name": "stdout",
     "output_type": "stream",
     "text": [
      "The history saving thread hit an unexpected error (OperationalError('attempt to write a readonly database')).History will not be written to the database.\n"
     ]
    },
    {
     "name": "stderr",
     "output_type": "stream",
     "text": [
      "2024-04-22 16:03:55.731380: I tensorflow/core/platform/cpu_feature_guard.cc:182] This TensorFlow binary is optimized to use available CPU instructions in performance-critical operations.\n",
      "To enable the following instructions: SSE4.1 SSE4.2 AVX AVX2 FMA, in other operations, rebuild TensorFlow with the appropriate compiler flags.\n"
     ]
    }
   ],
   "source": [
    "import tensorflow as tf\n",
    "import numpy as np"
   ]
  },
  {
   "cell_type": "markdown",
   "id": "d8a78627-e05a-4f41-b995-4cc7e33b614a",
   "metadata": {},
   "source": [
    "## Scaler Subtract"
   ]
  },
  {
   "cell_type": "code",
   "execution_count": 4,
   "id": "ae70ca7d-06f0-4c06-bfcc-e2dea83a0ba7",
   "metadata": {},
   "outputs": [
    {
     "data": {
      "text/plain": [
       "<tf.Tensor: shape=(), dtype=int32, numpy=-10>"
      ]
     },
     "execution_count": 4,
     "metadata": {},
     "output_type": "execute_result"
    }
   ],
   "source": [
    "a = 10\n",
    "b = 20\n",
    "\n",
    "tf.subtract(a,b)"
   ]
  },
  {
   "cell_type": "markdown",
   "id": "c35a60e9-5f2c-4ce9-98f8-8f88de96dcef",
   "metadata": {},
   "source": [
    "## subtract scaler with List/Tuple"
   ]
  },
  {
   "cell_type": "code",
   "execution_count": 7,
   "id": "f5f6e0f7-9682-400f-9000-c1a4f8df132b",
   "metadata": {},
   "outputs": [
    {
     "data": {
      "text/plain": [
       "<tf.Tensor: shape=(4,), dtype=int32, numpy=array([ 0, 10, 20, 30], dtype=int32)>"
      ]
     },
     "execution_count": 7,
     "metadata": {},
     "output_type": "execute_result"
    }
   ],
   "source": [
    "a = 10\n",
    "l1 = (10,20,30,40)\n",
    "tf.subtract(l1,a)"
   ]
  },
  {
   "cell_type": "markdown",
   "id": "49aa6ec5-89b6-49d9-9593-5c6d7312ff0c",
   "metadata": {},
   "source": [
    "## substract of 2 Tuple/List with different shape"
   ]
  },
  {
   "cell_type": "code",
   "execution_count": 9,
   "id": "4f36fa07-c2c2-4fd8-9c93-a3d95465dc6a",
   "metadata": {},
   "outputs": [
    {
     "data": {
      "text/plain": [
       "<tf.Tensor: shape=(4,), dtype=int32, numpy=array([0, 1, 2, 3], dtype=int32)>"
      ]
     },
     "execution_count": 9,
     "metadata": {},
     "output_type": "execute_result"
    }
   ],
   "source": [
    "t1 = [1,2,3,4]\n",
    "t2 = [1]\n",
    "\n",
    "tf.subtract(t1,t2)"
   ]
  },
  {
   "cell_type": "markdown",
   "id": "aaf9fe7b-5df0-4816-b4d0-db8fa5ac2bae",
   "metadata": {},
   "source": [
    "## substract 2 numpy arrays"
   ]
  },
  {
   "cell_type": "code",
   "execution_count": 13,
   "id": "427188b2-11b8-40b1-9b51-1803641b109f",
   "metadata": {},
   "outputs": [
    {
     "data": {
      "text/plain": [
       "<tf.Tensor: shape=(4,), dtype=int64, numpy=array([2, 3, 4, 5])>"
      ]
     },
     "execution_count": 13,
     "metadata": {},
     "output_type": "execute_result"
    }
   ],
   "source": [
    "npa1 = np.array([2,3,4,5])\n",
    "npa2 = np.array([4,6,8,10])\n",
    "\n",
    "tf.subtract(npa2, npa1)"
   ]
  },
  {
   "cell_type": "markdown",
   "id": "8c448d0c-fa3f-41db-bec9-d96ea27c65c6",
   "metadata": {},
   "source": [
    "## subtract Numpy arrays with scaler"
   ]
  },
  {
   "cell_type": "code",
   "execution_count": 17,
   "id": "18cbbb7b-915c-4cfa-b331-01ae2a183305",
   "metadata": {},
   "outputs": [
    {
     "data": {
      "text/plain": [
       "<tf.Tensor: shape=(5,), dtype=int64, numpy=array([-10,  -9,  -8,  -7,  -6])>"
      ]
     },
     "execution_count": 17,
     "metadata": {},
     "output_type": "execute_result"
    }
   ],
   "source": [
    "npa1 = np.array([0,1,2,3,4])\n",
    "a = 10\n",
    "\n",
    "tf.subtract(npa1,a)"
   ]
  },
  {
   "cell_type": "markdown",
   "id": "cc9c25bf-ca9d-42e6-a520-bbe7910a8cf6",
   "metadata": {},
   "source": [
    "## subtract Numpy arrays with single element np array"
   ]
  },
  {
   "cell_type": "code",
   "execution_count": 18,
   "id": "06364b25-6e5e-4a6d-bcda-5e71a61ce981",
   "metadata": {},
   "outputs": [
    {
     "data": {
      "text/plain": [
       "<tf.Tensor: shape=(4,), dtype=int64, numpy=array([0, 1, 2, 3])>"
      ]
     },
     "execution_count": 18,
     "metadata": {},
     "output_type": "execute_result"
    }
   ],
   "source": [
    "npa1 = np.array([1,2,3,4])\n",
    "npa2 = np.array([1])\n",
    "\n",
    "tf.subtract(npa1, npa2)"
   ]
  },
  {
   "cell_type": "markdown",
   "id": "170072ea-ce9b-4dc7-b888-aca5d5c7e708",
   "metadata": {},
   "source": [
    "## subtract 2 TF Constant Tensor"
   ]
  },
  {
   "cell_type": "code",
   "execution_count": 25,
   "id": "1a35b363-95ee-4b58-9ddf-7763440cabbc",
   "metadata": {},
   "outputs": [
    {
     "data": {
      "text/plain": [
       "<tf.Tensor: shape=(3,), dtype=int32, numpy=array([-1,  0,  0], dtype=int32)>"
      ]
     },
     "execution_count": 25,
     "metadata": {},
     "output_type": "execute_result"
    }
   ],
   "source": [
    "tf_c1 = tf.constant([1,2,0])\n",
    "tf_c2 = tf.constant([2,2,False])\n",
    "\n",
    "tf.subtract(tf_c1, tf_c2)"
   ]
  },
  {
   "cell_type": "markdown",
   "id": "076b2de2-5a76-4ce2-a6dd-6653982945fb",
   "metadata": {},
   "source": [
    "## subtract 2 TF Variable"
   ]
  },
  {
   "cell_type": "code",
   "execution_count": 29,
   "id": "ec9f2920-5223-4913-a067-18732712a0f2",
   "metadata": {},
   "outputs": [
    {
     "data": {
      "text/plain": [
       "<tf.Tensor: shape=(4,), dtype=int32, numpy=array([ 0,  0, -1,  0], dtype=int32)>"
      ]
     },
     "execution_count": 29,
     "metadata": {},
     "output_type": "execute_result"
    }
   ],
   "source": [
    "tf_v1 = tf.Variable([1,2,3,4])\n",
    "tf_v2 = tf.Variable([1,2,4,4])\n",
    "\n",
    "tf.subtract(tf_v1,tf_v2)"
   ]
  },
  {
   "cell_type": "markdown",
   "id": "21fd9c8c-dc88-40b2-8fbd-e2dfe9a12c1b",
   "metadata": {},
   "source": [
    "## subtract of 2d Scaler"
   ]
  },
  {
   "cell_type": "code",
   "execution_count": 30,
   "id": "78fdcc43-813a-4941-a5e7-7308a3e3e862",
   "metadata": {},
   "outputs": [
    {
     "data": {
      "text/plain": [
       "<tf.Tensor: shape=(2, 4), dtype=int32, numpy=\n",
       "array([[ 0,  0,  0,  0],\n",
       "       [-3, -1,  1,  3]], dtype=int32)>"
      ]
     },
     "execution_count": 30,
     "metadata": {},
     "output_type": "execute_result"
    }
   ],
   "source": [
    "a = [[1,2,3,4], [1,2,3,4]]\n",
    "b = [[1,2,3,4], [4,3,2,1]]\n",
    "\n",
    "tf.subtract(a,b)"
   ]
  }
 ],
 "metadata": {
  "kernelspec": {
   "display_name": "Python 3 (ipykernel)",
   "language": "python",
   "name": "python3"
  },
  "language_info": {
   "codemirror_mode": {
    "name": "ipython",
    "version": 3
   },
   "file_extension": ".py",
   "mimetype": "text/x-python",
   "name": "python",
   "nbconvert_exporter": "python",
   "pygments_lexer": "ipython3",
   "version": "3.11.5"
  }
 },
 "nbformat": 4,
 "nbformat_minor": 5
}
