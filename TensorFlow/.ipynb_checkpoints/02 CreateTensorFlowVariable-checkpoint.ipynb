{
 "cells": [
  {
   "cell_type": "markdown",
   "id": "6f33a3fe-d3b8-4f91-a97d-86d0f397915b",
   "metadata": {},
   "source": [
    "# **How To Create Variable In TensorFlow 2.X Tutorial**"
   ]
  },
  {
   "cell_type": "markdown",
   "id": "523d3b49-e655-4c2c-907d-1a26f1ddf752",
   "metadata": {},
   "source": [
    "The **Variable()** constructor requires an initial value for the variable, which can be a Tensor of any type and shape. This initial value defines the type and shape of the variable. After construction, the type and shape of the variable are fixed. The value can be changed using one of the assign methods."
   ]
  },
  {
   "cell_type": "markdown",
   "id": "53f37c4d-49c8-4beb-b09a-2cf607b72960",
   "metadata": {},
   "source": [
    "**Syntax:**\n",
    "                 \n",
    "```\n",
    "tf.Variable(\n",
    "initial_value=None, trainable=None, validate_shape=True, caching_device=None,\n",
    "name=None, variable_def=None, dtype=None, import_scope=None, constraint=None,\n",
    "synchronization=tf.VariableSynchronization.AUTO,\n",
    "aggregation=tf.compat.v1.VariableAggregation.NONE, shape=None\n",
    ")\n",
    "```"
   ]
  },
  {
   "cell_type": "markdown",
   "id": "a82fcb61-c18f-497c-92b7-2bb594a90f64",
   "metadata": {},
   "source": [
    "# Import TensorFlow"
   ]
  },
  {
   "cell_type": "code",
   "execution_count": 2,
   "id": "c417a6f6-8733-41cc-adca-58a3a4d5fc41",
   "metadata": {},
   "outputs": [],
   "source": [
    "import tensorflow as tf"
   ]
  },
  {
   "cell_type": "markdown",
   "id": "18f21add-1f23-401d-bbf1-c7eae18cfd14",
   "metadata": {},
   "source": [
    "# Create Tensor"
   ]
  },
  {
   "cell_type": "code",
   "execution_count": 20,
   "id": "d8b9450d-2f6f-46a1-9cd3-25b1982d300d",
   "metadata": {},
   "outputs": [
    {
     "data": {
      "text/plain": [
       "<tf.Variable 'Variable:0' shape=() dtype=int32, numpy=1>"
      ]
     },
     "execution_count": 20,
     "metadata": {},
     "output_type": "execute_result"
    }
   ],
   "source": [
    "tf.Variable(1)"
   ]
  },
  {
   "cell_type": "code",
   "execution_count": 33,
   "id": "2d61cf88-9f44-4363-8a4a-82b750a701e5",
   "metadata": {},
   "outputs": [
    {
     "data": {
      "text/plain": [
       "<tf.Variable 'Variable:0' shape=(4,) dtype=int32, numpy=array([1, 2, 3, 4], dtype=int32)>"
      ]
     },
     "execution_count": 33,
     "metadata": {},
     "output_type": "execute_result"
    }
   ],
   "source": [
    "a = tf.Variable([1, 2, 3, 4])\n",
    "a"
   ]
  },
  {
   "cell_type": "code",
   "execution_count": 27,
   "id": "d49db52a-02d9-47b2-a593-4916eb15ea4b",
   "metadata": {},
   "outputs": [
    {
     "data": {
      "text/plain": [
       "'Variable:0'"
      ]
     },
     "execution_count": 27,
     "metadata": {},
     "output_type": "execute_result"
    }
   ],
   "source": [
    "# Check Variable Name\n",
    "a.name"
   ]
  },
  {
   "cell_type": "code",
   "execution_count": 28,
   "id": "8d3cc557-e00c-487f-be86-17875f5d1622",
   "metadata": {},
   "outputs": [
    {
     "data": {
      "text/plain": [
       "tf.int32"
      ]
     },
     "execution_count": 28,
     "metadata": {},
     "output_type": "execute_result"
    }
   ],
   "source": [
    "# Check DataType of Tensor's Elements\n",
    "\n",
    "a.dtype"
   ]
  },
  {
   "cell_type": "code",
   "execution_count": 29,
   "id": "90f06dfe-2f6c-457e-92d4-18882fea9f40",
   "metadata": {},
   "outputs": [
    {
     "data": {
      "text/plain": [
       "TensorShape([4])"
      ]
     },
     "execution_count": 29,
     "metadata": {},
     "output_type": "execute_result"
    }
   ],
   "source": [
    "# Shape of Tensor\n",
    "\n",
    "a.shape"
   ]
  },
  {
   "cell_type": "code",
   "execution_count": 31,
   "id": "ba149a37-86a2-4541-9d3c-88b7e71f1d47",
   "metadata": {},
   "outputs": [
    {
     "data": {
      "text/plain": [
       "tensorflow.python.ops.resource_variable_ops.ResourceVariable"
      ]
     },
     "execution_count": 31,
     "metadata": {},
     "output_type": "execute_result"
    }
   ],
   "source": [
    "# Check Variable Type\n",
    "\n",
    "type(a)"
   ]
  },
  {
   "cell_type": "code",
   "execution_count": null,
   "id": "c8a25c39-17c7-4f90-a5ba-228808315c2a",
   "metadata": {},
   "outputs": [],
   "source": []
  }
 ],
 "metadata": {
  "kernelspec": {
   "display_name": "Python 3 (ipykernel)",
   "language": "python",
   "name": "python3"
  },
  "language_info": {
   "codemirror_mode": {
    "name": "ipython",
    "version": 3
   },
   "file_extension": ".py",
   "mimetype": "text/x-python",
   "name": "python",
   "nbconvert_exporter": "python",
   "pygments_lexer": "ipython3",
   "version": "3.11.5"
  }
 },
 "nbformat": 4,
 "nbformat_minor": 5
}
