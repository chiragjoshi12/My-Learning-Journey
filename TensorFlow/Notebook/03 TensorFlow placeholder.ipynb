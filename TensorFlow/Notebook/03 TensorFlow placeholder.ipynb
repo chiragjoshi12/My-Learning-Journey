{
 "cells": [
  {
   "cell_type": "markdown",
   "id": "79404c00-214c-4e14-9da6-b8aa6f184cb8",
   "metadata": {},
   "source": [
    "# How to Create Placeholder in TensorFLow 2.x"
   ]
  },
  {
   "cell_type": "markdown",
   "id": "dd33c879-89ae-4338-9ec2-8750d15861a7",
   "metadata": {},
   "source": [
    "## How Migrate your TensorFlow 1 code to TensorFlow 2"
   ]
  },
  {
   "cell_type": "markdown",
   "id": "f2d594c8-b4b2-4563-aee5-2f742f5e2ee2",
   "metadata": {},
   "source": [
    "## **Placeholder**\n",
    "\n",
    "A **TensorFlow placeholder** is simply a variable that we will assign data to at a later date. It allows us to create our operations and build our computation graph, without needing the data."
   ]
  },
  {
   "cell_type": "code",
   "execution_count": 1,
   "id": "b083e243-b405-423c-bc2b-bb4fd4c08cc0",
   "metadata": {},
   "outputs": [],
   "source": [
    "# Syntax: tf.compat.v1.placeholder(dtype, shape=None, name=None)"
   ]
  },
  {
   "cell_type": "markdown",
   "id": "dd08ce97-0b91-4c89-b68e-2e61ba16403e",
   "metadata": {},
   "source": [
    "## Import TensorFlow"
   ]
  },
  {
   "cell_type": "code",
   "execution_count": 2,
   "id": "99c5fba4-4a1b-4e4d-ab31-1f883e2b3c7f",
   "metadata": {},
   "outputs": [
    {
     "name": "stderr",
     "output_type": "stream",
     "text": [
      "2024-04-20 17:33:26.981300: I tensorflow/core/platform/cpu_feature_guard.cc:182] This TensorFlow binary is optimized to use available CPU instructions in performance-critical operations.\n",
      "To enable the following instructions: SSE4.1 SSE4.2 AVX AVX2 FMA, in other operations, rebuild TensorFlow with the appropriate compiler flags.\n"
     ]
    }
   ],
   "source": [
    "import tensorflow as tf"
   ]
  },
  {
   "cell_type": "code",
   "execution_count": 3,
   "id": "71c5a529-ff71-4438-a8e5-423c859cc084",
   "metadata": {},
   "outputs": [],
   "source": [
    "# placeholders are not executable immediately so we need to disable eager exicution in TF 2 not in 1"
   ]
  },
  {
   "cell_type": "code",
   "execution_count": 4,
   "id": "c6adfe6a-dacd-4b38-aca8-890c527bbe20",
   "metadata": {},
   "outputs": [],
   "source": [
    "tf.compat.v1.disable_eager_execution()"
   ]
  },
  {
   "cell_type": "markdown",
   "id": "4835c284-f752-4b33-80c2-4717abd974ed",
   "metadata": {},
   "source": [
    "## Create Placeholder"
   ]
  },
  {
   "cell_type": "code",
   "execution_count": 7,
   "id": "397f2013-74c6-447a-a78a-1e41fb483ae4",
   "metadata": {},
   "outputs": [
    {
     "data": {
      "text/plain": [
       "<tf.Tensor 'Placeholder_1:0' shape=(400, 400) dtype=float32>"
      ]
     },
     "execution_count": 7,
     "metadata": {},
     "output_type": "execute_result"
    }
   ],
   "source": [
    "a = tf.compat.v1.placeholder(dtype=\"float32\", shape=(400, 400))\n",
    "a"
   ]
  },
  {
   "cell_type": "code",
   "execution_count": 8,
   "id": "eb3a0ba3-e1ce-4017-8b7b-bfc95cac7396",
   "metadata": {},
   "outputs": [
    {
     "data": {
      "text/plain": [
       "<tf.Tensor 'Placeholder_2:0' shape=(400, 400) dtype=float32>"
      ]
     },
     "execution_count": 8,
     "metadata": {},
     "output_type": "execute_result"
    }
   ],
   "source": [
    "b = tf.compat.v1.placeholder(dtype=\"float32\", shape=(400, 400))\n",
    "b"
   ]
  },
  {
   "cell_type": "markdown",
   "id": "9b2738d6-cbca-4f71-a23a-b592d9b935fc",
   "metadata": {},
   "source": [
    "## Perform mathematical operation with placeholder"
   ]
  },
  {
   "cell_type": "code",
   "execution_count": 10,
   "id": "fbee20d8-b756-49eb-84fb-a77f8a16ee5d",
   "metadata": {},
   "outputs": [
    {
     "data": {
      "text/plain": [
       "<tf.Tensor 'Add_1:0' shape=(400, 400) dtype=float32>"
      ]
     },
     "execution_count": 10,
     "metadata": {},
     "output_type": "execute_result"
    }
   ],
   "source": [
    "c = tf.add(a, b)\n",
    "c"
   ]
  },
  {
   "cell_type": "markdown",
   "id": "9e546fe5-d53e-486f-a0bc-4913809dfb3f",
   "metadata": {},
   "source": [
    "## Create a Numpy array"
   ]
  },
  {
   "cell_type": "code",
   "execution_count": 11,
   "id": "abce3042-8663-45d5-98cc-5b627eff0835",
   "metadata": {},
   "outputs": [],
   "source": [
    "import numpy as np"
   ]
  },
  {
   "cell_type": "code",
   "execution_count": 15,
   "id": "0e10cb3a-5ff7-41af-9541-964054638be2",
   "metadata": {},
   "outputs": [
    {
     "data": {
      "text/plain": [
       "array([[1, 1, 1, ..., 1, 1, 1],\n",
       "       [1, 1, 1, ..., 1, 1, 1],\n",
       "       [1, 1, 1, ..., 1, 1, 1],\n",
       "       ...,\n",
       "       [1, 1, 1, ..., 1, 1, 1],\n",
       "       [1, 1, 1, ..., 1, 1, 1],\n",
       "       [1, 1, 1, ..., 1, 1, 1]], dtype=int32)"
      ]
     },
     "execution_count": 15,
     "metadata": {},
     "output_type": "execute_result"
    }
   ],
   "source": [
    "ones_array = np.ones((400, 400), np.int32)\n",
    "ones_array"
   ]
  },
  {
   "cell_type": "markdown",
   "id": "2a9c5bd8-cc3d-417a-b203-fb87e74e5936",
   "metadata": {},
   "source": [
    "### Execute TensorFlow Placeholder using session"
   ]
  },
  {
   "cell_type": "code",
   "execution_count": 22,
   "id": "ab6d706b-627c-456b-b7ea-c27f20da4cf0",
   "metadata": {},
   "outputs": [],
   "source": [
    "with tf.compat.v1.Session() as sess:\n",
    "    d = sess.run(c, feed_dict={a:ones_array, b:ones_array})"
   ]
  },
  {
   "cell_type": "code",
   "execution_count": 23,
   "id": "01985034-8b2d-4bc4-b460-de5808a4aaa3",
   "metadata": {},
   "outputs": [
    {
     "data": {
      "text/plain": [
       "array([[2., 2., 2., ..., 2., 2., 2.],\n",
       "       [2., 2., 2., ..., 2., 2., 2.],\n",
       "       [2., 2., 2., ..., 2., 2., 2.],\n",
       "       ...,\n",
       "       [2., 2., 2., ..., 2., 2., 2.],\n",
       "       [2., 2., 2., ..., 2., 2., 2.],\n",
       "       [2., 2., 2., ..., 2., 2., 2.]], dtype=float32)"
      ]
     },
     "execution_count": 23,
     "metadata": {},
     "output_type": "execute_result"
    }
   ],
   "source": [
    "d"
   ]
  },
  {
   "cell_type": "code",
   "execution_count": null,
   "id": "d7e022c1-2a09-4860-859a-c885933d70fb",
   "metadata": {},
   "outputs": [],
   "source": []
  }
 ],
 "metadata": {
  "kernelspec": {
   "display_name": "Python 3 (ipykernel)",
   "language": "python",
   "name": "python3"
  },
  "language_info": {
   "codemirror_mode": {
    "name": "ipython",
    "version": 3
   },
   "file_extension": ".py",
   "mimetype": "text/x-python",
   "name": "python",
   "nbconvert_exporter": "python",
   "pygments_lexer": "ipython3",
   "version": "3.11.5"
  }
 },
 "nbformat": 4,
 "nbformat_minor": 5
}
