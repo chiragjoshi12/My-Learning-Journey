{
 "cells": [
  {
   "cell_type": "markdown",
   "id": "07eda094-f73b-4041-b5e3-f506620333e4",
   "metadata": {},
   "source": [
    "# Create Sparse Tensor using TensorFlow 2.0"
   ]
  },
  {
   "cell_type": "markdown",
   "id": "c5401edf-5569-4539-a993-fe9652565486",
   "metadata": {},
   "source": [
    "### What is Sparse Tensor?\n",
    "\n",
    "**Tensor that contain mostly zero values are called sparse tensor.**\n",
    "\n",
    "When working with tensors that contain a lot of zero values, it is important to store them in a space- and time-efficient manner. Sparse tensors enable efficient storage and processing of tensors that contain a lot of zero values.\n",
    "Sparse tensors are used extensively in encoding schemes like TF-IDF as part of data pre-processing in NLP applications and for pre-processing images with a lot of dark pixels in computer vision applications.\n",
    "\n",
    "Currently, sparse tensors in TensorFlow are encoded using the coordinate list (COO) format.\n",
    "\n",
    "The COO encoding for sparse tensors is comprised of:\n",
    "\n",
    "values: A 1D tensor with shape [N] containing all nonzero values.\n",
    "indices: A 2D tensor with shape [N, rank], containing the indices of the nonzero values.\n",
    "dense_shape: A 1D tensor with shape [rank], specifying the shape of the tensor."
   ]
  },
  {
   "cell_type": "markdown",
   "id": "9d3bb941-00f3-4c0b-9473-bb8c24d47fb5",
   "metadata": {},
   "source": [
    "### Syntax of sparse Tensor"
   ]
  },
  {
   "cell_type": "markdown",
   "id": "5e87ccaf-81f4-47e2-ae63-862de489bcdc",
   "metadata": {},
   "source": [
    "```tf.sparse.SparseTensor(indices, values, desne_shape)```"
   ]
  },
  {
   "cell_type": "code",
   "execution_count": 1,
   "id": "337d2219-3cc2-4fe1-bd5c-dc01e3a12459",
   "metadata": {},
   "outputs": [
    {
     "name": "stderr",
     "output_type": "stream",
     "text": [
      "2024-04-20 19:48:48.695253: I tensorflow/core/platform/cpu_feature_guard.cc:182] This TensorFlow binary is optimized to use available CPU instructions in performance-critical operations.\n",
      "To enable the following instructions: SSE4.1 SSE4.2 AVX AVX2 FMA, in other operations, rebuild TensorFlow with the appropriate compiler flags.\n"
     ]
    }
   ],
   "source": [
    "# Import TensorFlow 2.x\n",
    "import tensorflow as tf"
   ]
  },
  {
   "cell_type": "code",
   "execution_count": 6,
   "id": "9bbca923-4568-41ec-8c6c-28ecb29e9244",
   "metadata": {},
   "outputs": [
    {
     "data": {
      "text/plain": [
       "SparseTensor(indices=tf.Tensor(\n",
       "[[0 2]\n",
       " [3 4]], shape=(2, 2), dtype=int64), values=tf.Tensor([10 15], shape=(2,), dtype=int32), dense_shape=tf.Tensor([ 3 10], shape=(2,), dtype=int64))"
      ]
     },
     "execution_count": 6,
     "metadata": {},
     "output_type": "execute_result"
    }
   ],
   "source": [
    "st1 = tf.SparseTensor(indices=[[0,2], [3,4]], values=[10,15], dense_shape=[3,10])\n",
    "st1"
   ]
  },
  {
   "cell_type": "markdown",
   "id": "26ec178a-3772-493c-b324-0682dc337d01",
   "metadata": {},
   "source": [
    "## Create Sparse Tensor From Dense"
   ]
  },
  {
   "cell_type": "code",
   "execution_count": 8,
   "id": "e90226b4-d6f4-464b-84bf-0a2aa639c760",
   "metadata": {},
   "outputs": [],
   "source": [
    "import numpy as np"
   ]
  },
  {
   "cell_type": "code",
   "execution_count": 83,
   "id": "3bef1102-1c4d-4a10-b338-f70f6b0f66bd",
   "metadata": {},
   "outputs": [
    {
     "data": {
      "text/plain": [
       "array([[1, 0, 0, 0],\n",
       "       [0, 0, 0, 0],\n",
       "       [0, 0, 2, 0],\n",
       "       [0, 0, 0, 5]])"
      ]
     },
     "execution_count": 83,
     "metadata": {},
     "output_type": "execute_result"
    }
   ],
   "source": [
    "np_arrays = np.array([[1,0,0,0],\n",
    "                      [0,0,0,0],\n",
    "                      [0,0,2,0],\n",
    "                      [0,0,0,5]])\n",
    "\n",
    "np_arrays"
   ]
  },
  {
   "cell_type": "code",
   "execution_count": 86,
   "id": "42da7c64-8e7c-4d69-9693-06086006e5ee",
   "metadata": {},
   "outputs": [
    {
     "data": {
      "text/plain": [
       "SparseTensor(indices=tf.Tensor(\n",
       "[[0 0]\n",
       " [2 2]\n",
       " [3 3]], shape=(3, 2), dtype=int64), values=tf.Tensor([1 2 5], shape=(3,), dtype=int64), dense_shape=tf.Tensor([4 4], shape=(2,), dtype=int64))"
      ]
     },
     "execution_count": 86,
     "metadata": {},
     "output_type": "execute_result"
    }
   ],
   "source": [
    "st2_fd = tf.sparse.from_dense(np_arrays)\n",
    "st2_fd"
   ]
  },
  {
   "cell_type": "markdown",
   "id": "53beccc4-b56e-44f7-840d-312785323398",
   "metadata": {},
   "source": [
    "## Extract the values, indices & Shape of Sparse Tensor"
   ]
  },
  {
   "cell_type": "code",
   "execution_count": 89,
   "id": "6145e3d3-f962-4efa-b7d3-a0b131010333",
   "metadata": {},
   "outputs": [
    {
     "data": {
      "text/plain": [
       "<tf.Tensor: shape=(2,), dtype=int32, numpy=array([10, 15], dtype=int32)>"
      ]
     },
     "execution_count": 89,
     "metadata": {},
     "output_type": "execute_result"
    }
   ],
   "source": [
    "# Values\n",
    "\n",
    "st1.values"
   ]
  },
  {
   "cell_type": "code",
   "execution_count": 96,
   "id": "8ec3397e-9b84-4390-bb48-bc1f4c2c6a75",
   "metadata": {},
   "outputs": [
    {
     "data": {
      "text/plain": [
       "[[0, 2], [3, 4]]"
      ]
     },
     "execution_count": 96,
     "metadata": {},
     "output_type": "execute_result"
    }
   ],
   "source": [
    "# indices\n",
    "\n",
    "st1.indices.numpy().tolist()"
   ]
  },
  {
   "cell_type": "code",
   "execution_count": 99,
   "id": "da78bfe8-2f70-4866-a144-d3fe780d3a4b",
   "metadata": {},
   "outputs": [
    {
     "data": {
      "text/plain": [
       "[3, 10]"
      ]
     },
     "execution_count": 99,
     "metadata": {},
     "output_type": "execute_result"
    }
   ],
   "source": [
    "st1.dense_shape.numpy().tolist()"
   ]
  },
  {
   "cell_type": "markdown",
   "id": "881e9572-e920-44c0-aace-0fcf1d2ef43f",
   "metadata": {},
   "source": [
    "## Sparse Tensor to Dense Tensor"
   ]
  },
  {
   "cell_type": "code",
   "execution_count": 101,
   "id": "0dd0a144-77f3-4d93-807d-e4498105e93d",
   "metadata": {},
   "outputs": [
    {
     "data": {
      "text/plain": [
       "<tf.Tensor: shape=(4, 4), dtype=int64, numpy=\n",
       "array([[1, 0, 0, 0],\n",
       "       [0, 0, 0, 0],\n",
       "       [0, 0, 2, 0],\n",
       "       [0, 0, 0, 5]])>"
      ]
     },
     "execution_count": 101,
     "metadata": {},
     "output_type": "execute_result"
    }
   ],
   "source": [
    "dt_fst = tf.sparse.to_dense(st2_fd)\n",
    "dt_fst"
   ]
  },
  {
   "cell_type": "code",
   "execution_count": 104,
   "id": "69978975-7ad6-465b-92af-dc55dfd6dd3c",
   "metadata": {},
   "outputs": [
    {
     "data": {
      "text/plain": [
       "array([[1, 0, 0, 0],\n",
       "       [0, 0, 0, 0],\n",
       "       [0, 0, 2, 0],\n",
       "       [0, 0, 0, 5]])"
      ]
     },
     "execution_count": 104,
     "metadata": {},
     "output_type": "execute_result"
    }
   ],
   "source": [
    "# Convert Dense Tensor into numpy a\n",
    "\n",
    "dt_fst.numpy()"
   ]
  },
  {
   "cell_type": "code",
   "execution_count": null,
   "id": "5ce84c96-c008-4e7a-ba59-93cb5c93a8dd",
   "metadata": {},
   "outputs": [],
   "source": []
  }
 ],
 "metadata": {
  "kernelspec": {
   "display_name": "Python 3 (ipykernel)",
   "language": "python",
   "name": "python3"
  },
  "language_info": {
   "codemirror_mode": {
    "name": "ipython",
    "version": 3
   },
   "file_extension": ".py",
   "mimetype": "text/x-python",
   "name": "python",
   "nbconvert_exporter": "python",
   "pygments_lexer": "ipython3",
   "version": "3.11.5"
  }
 },
 "nbformat": 4,
 "nbformat_minor": 5
}
