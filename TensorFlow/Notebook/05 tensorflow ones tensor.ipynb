{
 "cells": [
  {
   "cell_type": "markdown",
   "id": "fac64e83-dffa-4b53-a7b8-4d4f826292e2",
   "metadata": {},
   "source": [
    "# How to create Tensor with every elements are one in TensorFlow 2.x"
   ]
  },
  {
   "cell_type": "code",
   "execution_count": 1,
   "id": "232e0172-a96b-47c3-ad18-a0bcf98b624b",
   "metadata": {},
   "outputs": [
    {
     "name": "stderr",
     "output_type": "stream",
     "text": [
      "2024-04-20 21:20:56.272666: I tensorflow/core/platform/cpu_feature_guard.cc:182] This TensorFlow binary is optimized to use available CPU instructions in performance-critical operations.\n",
      "To enable the following instructions: SSE4.1 SSE4.2 AVX AVX2 FMA, in other operations, rebuild TensorFlow with the appropriate compiler flags.\n"
     ]
    }
   ],
   "source": [
    "# import tensorflow\n",
    "\n",
    "import tensorflow as tf"
   ]
  },
  {
   "cell_type": "markdown",
   "id": "461f90ad-fdd7-4196-a3a6-6e9c1acca1db",
   "metadata": {},
   "source": [
    "## tf.ones()"
   ]
  },
  {
   "cell_type": "code",
   "execution_count": 17,
   "id": "b7b45a33-a88a-4b40-94e2-d8efafdd8b4b",
   "metadata": {},
   "outputs": [
    {
     "data": {
      "text/plain": [
       "<tf.Tensor: shape=(3, 2), dtype=int32, numpy=\n",
       "array([[1, 1],\n",
       "       [1, 1],\n",
       "       [1, 1]], dtype=int32)>"
      ]
     },
     "execution_count": 17,
     "metadata": {},
     "output_type": "execute_result"
    }
   ],
   "source": [
    "ones_2dt = tf.ones((3, 2), tf.int32)\n",
    "ones_2dt"
   ]
  },
  {
   "cell_type": "code",
   "execution_count": 20,
   "id": "2abe71cf-d5ab-4325-b9c1-4bcf591e13cb",
   "metadata": {},
   "outputs": [
    {
     "data": {
      "text/plain": [
       "<tf.Tensor: shape=(3, 2, 2), dtype=int32, numpy=\n",
       "array([[[1, 1],\n",
       "        [1, 1]],\n",
       "\n",
       "       [[1, 1],\n",
       "        [1, 1]],\n",
       "\n",
       "       [[1, 1],\n",
       "        [1, 1]]], dtype=int32)>"
      ]
     },
     "execution_count": 20,
     "metadata": {},
     "output_type": "execute_result"
    }
   ],
   "source": [
    "ones_3dt = tf.ones((3, 2, 2), tf.int32)\n",
    "ones_3dt"
   ]
  },
  {
   "cell_type": "markdown",
   "id": "b7060e8f-d404-4a76-b149-a333a41a1866",
   "metadata": {},
   "source": [
    "## tf.ones_like()"
   ]
  },
  {
   "cell_type": "code",
   "execution_count": 30,
   "id": "c1dd9509-301b-4e52-b809-ee5720e31d8e",
   "metadata": {},
   "outputs": [
    {
     "data": {
      "text/plain": [
       "<tf.Variable 'Variable:0' shape=(2, 3) dtype=int32, numpy=\n",
       "array([[1, 2, 3],\n",
       "       [2, 3, 3]], dtype=int32)>"
      ]
     },
     "execution_count": 30,
     "metadata": {},
     "output_type": "execute_result"
    }
   ],
   "source": [
    "var_2dt = tf.Variable([[1,2, 3], [2,3, 3]])\n",
    "var_2dt"
   ]
  },
  {
   "cell_type": "code",
   "execution_count": 31,
   "id": "6ae28a09-55fe-4e25-8c44-f5172f8e8695",
   "metadata": {},
   "outputs": [
    {
     "data": {
      "text/plain": [
       "<tf.Tensor: shape=(2, 3), dtype=int32, numpy=\n",
       "array([[1, 1, 1],\n",
       "       [1, 1, 1]], dtype=int32)>"
      ]
     },
     "execution_count": 31,
     "metadata": {},
     "output_type": "execute_result"
    }
   ],
   "source": [
    "tf.ones_like(var_2dt)"
   ]
  },
  {
   "cell_type": "markdown",
   "id": "ba8f44d9-0300-470c-bb14-3263f30e9afa",
   "metadata": {},
   "source": [
    "## tf.ones_intializer()"
   ]
  },
  {
   "cell_type": "code",
   "execution_count": 32,
   "id": "e6270c53-3aec-4449-aa10-5727fc6a8b15",
   "metadata": {},
   "outputs": [],
   "source": [
    "def ones_variable(shape, dtype, intializer):\n",
    "    return tf.Variable(intializer(shape=shape, dtype=dtype))"
   ]
  },
  {
   "cell_type": "code",
   "execution_count": 33,
   "id": "9d928f95-d8a8-4bed-90cc-1174bd52aa7b",
   "metadata": {},
   "outputs": [
    {
     "data": {
      "text/plain": [
       "<tf.Variable 'Variable:0' shape=(2, 2) dtype=float32, numpy=\n",
       "array([[1., 1.],\n",
       "       [1., 1.]], dtype=float32)>"
      ]
     },
     "execution_count": 33,
     "metadata": {},
     "output_type": "execute_result"
    }
   ],
   "source": [
    "ones_variable((2,2), tf.float32, tf.ones_initializer())"
   ]
  },
  {
   "cell_type": "code",
   "execution_count": null,
   "id": "33981608-8efe-4321-87da-b9a316fa08bb",
   "metadata": {},
   "outputs": [],
   "source": []
  }
 ],
 "metadata": {
  "kernelspec": {
   "display_name": "Python 3 (ipykernel)",
   "language": "python",
   "name": "python3"
  },
  "language_info": {
   "codemirror_mode": {
    "name": "ipython",
    "version": 3
   },
   "file_extension": ".py",
   "mimetype": "text/x-python",
   "name": "python",
   "nbconvert_exporter": "python",
   "pygments_lexer": "ipython3",
   "version": "3.11.5"
  }
 },
 "nbformat": 4,
 "nbformat_minor": 5
}
