{
 "cells": [
  {
   "cell_type": "markdown",
   "id": "6f33a3fe-d3b8-4f91-a97d-86d0f397915b",
   "metadata": {},
   "source": [
    "# **How To Create Variable In TensorFlow 2.X Tutorial**"
   ]
  },
  {
   "cell_type": "markdown",
   "id": "523d3b49-e655-4c2c-907d-1a26f1ddf752",
   "metadata": {},
   "source": [
    "The **Variable()** constructor requires an initial value for the variable, which can be a Tensor of any type and shape. This initial value defines the type and shape of the variable. After construction, the type and shape of the variable are fixed. The value can be changed using one of the assign methods."
   ]
  },
  {
   "cell_type": "markdown",
   "id": "53f37c4d-49c8-4beb-b09a-2cf607b72960",
   "metadata": {},
   "source": [
    "**Syntax:**\n",
    "\n",
    "\n",
    "```\n",
    "tf.Variable(\n",
    "initial_value=None, trainable=None, validate_shape=True, caching_device=None,\n",
    "name=None, variable_def=None, dtype=None, import_scope=None, constraint=None,\n",
    "synchronization=tf.VariableSynchronization.AUTO,\n",
    "aggregation=tf.compat.v1.VariableAggregation.NONE, shape=None\n",
    ")\n",
    "```"
   ]
  },
  {
   "cell_type": "markdown",
   "id": "a82fcb61-c18f-497c-92b7-2bb594a90f64",
   "metadata": {},
   "source": [
    "# Import TensorFlow"
   ]
  },
  {
   "cell_type": "code",
   "execution_count": 16,
   "id": "c417a6f6-8733-41cc-adca-58a3a4d5fc41",
   "metadata": {},
   "outputs": [],
   "source": [
    "import tensorflow as tf"
   ]
  },
  {
   "cell_type": "markdown",
   "id": "18f21add-1f23-401d-bbf1-c7eae18cfd14",
   "metadata": {},
   "source": [
    "# Create Tensor"
   ]
  },
  {
   "cell_type": "code",
   "execution_count": 3,
   "id": "d8b9450d-2f6f-46a1-9cd3-25b1982d300d",
   "metadata": {},
   "outputs": [
    {
     "data": {
      "text/plain": [
       "<tf.Variable 'Variable:0' shape=() dtype=int32, numpy=1>"
      ]
     },
     "execution_count": 3,
     "metadata": {},
     "output_type": "execute_result"
    }
   ],
   "source": [
    "tf.Variable(1)"
   ]
  },
  {
   "cell_type": "code",
   "execution_count": 4,
   "id": "2d61cf88-9f44-4363-8a4a-82b750a701e5",
   "metadata": {},
   "outputs": [
    {
     "data": {
      "text/plain": [
       "<tf.Variable 'Variable:0' shape=(4,) dtype=int32, numpy=array([1, 2, 3, 4], dtype=int32)>"
      ]
     },
     "execution_count": 4,
     "metadata": {},
     "output_type": "execute_result"
    }
   ],
   "source": [
    "a = tf.Variable([1, 2, 3, 4])\n",
    "a"
   ]
  },
  {
   "cell_type": "code",
   "execution_count": 5,
   "id": "d49db52a-02d9-47b2-a593-4916eb15ea4b",
   "metadata": {},
   "outputs": [
    {
     "data": {
      "text/plain": [
       "'Variable:0'"
      ]
     },
     "execution_count": 5,
     "metadata": {},
     "output_type": "execute_result"
    }
   ],
   "source": [
    "# Check Variable Name\n",
    "a.name"
   ]
  },
  {
   "cell_type": "code",
   "execution_count": 6,
   "id": "8d3cc557-e00c-487f-be86-17875f5d1622",
   "metadata": {},
   "outputs": [
    {
     "data": {
      "text/plain": [
       "tf.int32"
      ]
     },
     "execution_count": 6,
     "metadata": {},
     "output_type": "execute_result"
    }
   ],
   "source": [
    "# Check DataType of Tensor's Elements\n",
    "\n",
    "a.dtype"
   ]
  },
  {
   "cell_type": "code",
   "execution_count": 7,
   "id": "90f06dfe-2f6c-457e-92d4-18882fea9f40",
   "metadata": {},
   "outputs": [
    {
     "data": {
      "text/plain": [
       "TensorShape([4])"
      ]
     },
     "execution_count": 7,
     "metadata": {},
     "output_type": "execute_result"
    }
   ],
   "source": [
    "# Shape of Tensor\n",
    "\n",
    "a.shape"
   ]
  },
  {
   "cell_type": "code",
   "execution_count": 8,
   "id": "ba149a37-86a2-4541-9d3c-88b7e71f1d47",
   "metadata": {},
   "outputs": [
    {
     "data": {
      "text/plain": [
       "tensorflow.python.ops.resource_variable_ops.ResourceVariable"
      ]
     },
     "execution_count": 8,
     "metadata": {},
     "output_type": "execute_result"
    }
   ],
   "source": [
    "# Check Variable Type\n",
    "\n",
    "type(a)"
   ]
  },
  {
   "cell_type": "markdown",
   "id": "4c5f69fe-84f4-4e2a-9a7a-2b3bc53d1776",
   "metadata": {},
   "source": [
    "# Create TF using Integer, Float, String, Bool, complex Number"
   ]
  },
  {
   "cell_type": "code",
   "execution_count": 9,
   "id": "c8a25c39-17c7-4f90-a5ba-228808315c2a",
   "metadata": {},
   "outputs": [
    {
     "data": {
      "text/plain": [
       "<tf.Variable 'Variable:0' shape=(1,) dtype=int32, numpy=array([1], dtype=int32)>"
      ]
     },
     "execution_count": 9,
     "metadata": {},
     "output_type": "execute_result"
    }
   ],
   "source": [
    "# Integer\n",
    "\n",
    "tf_i = tf.Variable([1])\n",
    "tf_i"
   ]
  },
  {
   "cell_type": "code",
   "execution_count": 10,
   "id": "0f6a34aa-5b1d-4044-bf71-269f679453c2",
   "metadata": {},
   "outputs": [
    {
     "data": {
      "text/plain": [
       "<tf.Variable 'Variable:0' shape=(1,) dtype=string, numpy=array([b\"Hii, i'm FIne!\"], dtype=object)>"
      ]
     },
     "execution_count": 10,
     "metadata": {},
     "output_type": "execute_result"
    }
   ],
   "source": [
    "# String\n",
    "\n",
    "tf_s = tf.Variable([\"Hii, i'm FIne!\"])\n",
    "tf_s"
   ]
  },
  {
   "cell_type": "code",
   "execution_count": 11,
   "id": "97e2cc97-61e5-4620-868e-b3b7f527dd11",
   "metadata": {},
   "outputs": [
    {
     "data": {
      "text/plain": [
       "<tf.Variable 'Variable:0' shape=(1,) dtype=float32, numpy=array([1.2], dtype=float32)>"
      ]
     },
     "execution_count": 11,
     "metadata": {},
     "output_type": "execute_result"
    }
   ],
   "source": [
    "# Float\n",
    "\n",
    "tf_f = tf.Variable([1.2])\n",
    "tf_f"
   ]
  },
  {
   "cell_type": "code",
   "execution_count": 12,
   "id": "343ea4b3-a1e1-4e94-98f3-4b4bc360edb9",
   "metadata": {},
   "outputs": [
    {
     "data": {
      "text/plain": [
       "<tf.Variable 'Variable:0' shape=(1,) dtype=complex128, numpy=array([3.+4.j])>"
      ]
     },
     "execution_count": 12,
     "metadata": {},
     "output_type": "execute_result"
    }
   ],
   "source": [
    "# Complex\n",
    "\n",
    "tf_cp = tf.Variable([3+4j])\n",
    "tf_cp"
   ]
  },
  {
   "cell_type": "markdown",
   "id": "45eca53f-0db0-476e-b93c-710f40ae43fe",
   "metadata": {},
   "source": [
    "# Create TF From Constant TensorFlow Variable"
   ]
  },
  {
   "cell_type": "code",
   "execution_count": 13,
   "id": "9bf1f633-3aa2-45b0-8b09-0433bcf2b9b9",
   "metadata": {},
   "outputs": [
    {
     "data": {
      "text/plain": [
       "<tf.Tensor: shape=(4,), dtype=int32, numpy=array([1, 2, 3, 4], dtype=int32)>"
      ]
     },
     "execution_count": 13,
     "metadata": {},
     "output_type": "execute_result"
    }
   ],
   "source": [
    "tf_t = tf.constant([1,2,3,4])\n",
    "tf_t"
   ]
  },
  {
   "cell_type": "code",
   "execution_count": 14,
   "id": "d5a05647-fd4c-4669-94d4-a7a0a771bc66",
   "metadata": {},
   "outputs": [
    {
     "data": {
      "text/plain": [
       "<tf.Variable 'Variable:0' shape=(4,) dtype=int32, numpy=array([1, 2, 3, 4], dtype=int32)>"
      ]
     },
     "execution_count": 14,
     "metadata": {},
     "output_type": "execute_result"
    }
   ],
   "source": [
    "tf_variable = tf.Variable(tf_t)\n",
    "tf_variable"
   ]
  },
  {
   "cell_type": "markdown",
   "id": "6c4f6ed8-da3d-4d43-9650-cfc96ed0c520",
   "metadata": {},
   "source": [
    "# Create TF Variable with different Shape"
   ]
  },
  {
   "cell_type": "code",
   "execution_count": 15,
   "id": "15b4b770-2c4d-435f-8b6f-52ebea07ad02",
   "metadata": {},
   "outputs": [
    {
     "data": {
      "text/plain": [
       "<tf.Variable 'Variable:0' shape=(2, 2) dtype=int32, numpy=\n",
       "array([[1, 2],\n",
       "       [3, 4]], dtype=int32)>"
      ]
     },
     "execution_count": 15,
     "metadata": {},
     "output_type": "execute_result"
    }
   ],
   "source": [
    "tf_t = tf.Variable([[1,2], [3,4]], shape=(2,2))\n",
    "tf_t"
   ]
  },
  {
   "cell_type": "code",
   "execution_count": 66,
   "id": "12000c03-1ce2-4bbb-b5fb-217d352a92e9",
   "metadata": {},
   "outputs": [
    {
     "data": {
      "text/plain": [
       "<tf.Variable 'Variable:0' shape=(4,) dtype=int32, numpy=array([1, 2, 3, 4], dtype=int32)>"
      ]
     },
     "execution_count": 66,
     "metadata": {},
     "output_type": "execute_result"
    }
   ],
   "source": [
    "a"
   ]
  },
  {
   "cell_type": "code",
   "execution_count": 88,
   "id": "fa8c8c02-60c5-4def-99b3-ec6f8fb76577",
   "metadata": {},
   "outputs": [
    {
     "data": {
      "text/plain": [
       "<tf.Tensor: shape=(2, 2), dtype=int32, numpy=\n",
       "array([[1, 2],\n",
       "       [3, 4]], dtype=int32)>"
      ]
     },
     "execution_count": 88,
     "metadata": {},
     "output_type": "execute_result"
    }
   ],
   "source": [
    "b = tf.reshape(a, (2, 2))"
   ]
  },
  {
   "cell_type": "markdown",
   "id": "f97d6355-1179-4866-914a-545283e029e8",
   "metadata": {},
   "source": [
    "# Get index of Highest Value"
   ]
  },
  {
   "cell_type": "code",
   "execution_count": 19,
   "id": "63aa197b-1f49-4e4d-b5a3-c884702f0220",
   "metadata": {},
   "outputs": [
    {
     "data": {
      "text/plain": [
       "<tf.Variable 'Variable:0' shape=(2, 2) dtype=int32, numpy=\n",
       "array([[1, 5],\n",
       "       [3, 4]], dtype=int32)>"
      ]
     },
     "execution_count": 19,
     "metadata": {},
     "output_type": "execute_result"
    }
   ],
   "source": [
    "b = tf.Variable([[1, 5], [3, 4]])\n",
    "b"
   ]
  },
  {
   "cell_type": "code",
   "execution_count": 20,
   "id": "c3055036-1195-40ab-be6c-7061214e0c6d",
   "metadata": {},
   "outputs": [
    {
     "data": {
      "text/plain": [
       "<tf.Tensor: shape=(2,), dtype=int64, numpy=array([1, 0])>"
      ]
     },
     "execution_count": 20,
     "metadata": {},
     "output_type": "execute_result"
    }
   ],
   "source": [
    "tf.argmax(b)"
   ]
  },
  {
   "cell_type": "markdown",
   "id": "f745783d-dc6a-4e57-bd64-0c9e3bf1f8b3",
   "metadata": {},
   "source": [
    "# Viewed/Convert as a tensor"
   ]
  },
  {
   "cell_type": "code",
   "execution_count": 21,
   "id": "6ae33be0-7369-446a-b29e-08325320e26a",
   "metadata": {},
   "outputs": [
    {
     "data": {
      "text/plain": [
       "<tf.Variable 'Variable:0' shape=(4,) dtype=int32, numpy=array([1, 2, 3, 4], dtype=int32)>"
      ]
     },
     "execution_count": 21,
     "metadata": {},
     "output_type": "execute_result"
    }
   ],
   "source": [
    "a"
   ]
  },
  {
   "cell_type": "code",
   "execution_count": 22,
   "id": "39533bb0-a8ad-40f9-b5c0-4e8f6d198c27",
   "metadata": {},
   "outputs": [
    {
     "data": {
      "text/plain": [
       "<tf.Tensor: shape=(4,), dtype=int32, numpy=array([1, 2, 3, 4], dtype=int32)>"
      ]
     },
     "execution_count": 22,
     "metadata": {},
     "output_type": "execute_result"
    }
   ],
   "source": [
    "tf.convert_to_tensor(a)"
   ]
  },
  {
   "cell_type": "code",
   "execution_count": 24,
   "id": "73e452dd-d785-4c3a-8c8a-31f48dcf14dc",
   "metadata": {},
   "outputs": [
    {
     "data": {
      "text/plain": [
       "<tf.Tensor: shape=(2, 2), dtype=int32, numpy=\n",
       "array([[1, 2],\n",
       "       [3, 4]], dtype=int32)>"
      ]
     },
     "execution_count": 24,
     "metadata": {},
     "output_type": "execute_result"
    }
   ],
   "source": [
    "tf.convert_to_tensor(tf_t)"
   ]
  },
  {
   "cell_type": "markdown",
   "id": "58b29ce2-1b3d-4da3-ad9c-68ba57beb4a1",
   "metadata": {},
   "source": [
    "# Change/Assign new value to tensor"
   ]
  },
  {
   "cell_type": "code",
   "execution_count": 25,
   "id": "dc901ed3-d849-4ec0-90e2-299a830b939f",
   "metadata": {},
   "outputs": [
    {
     "data": {
      "text/plain": [
       "<tf.Variable 'Variable:0' shape=(4,) dtype=int32, numpy=array([1, 2, 3, 4], dtype=int32)>"
      ]
     },
     "execution_count": 25,
     "metadata": {},
     "output_type": "execute_result"
    }
   ],
   "source": [
    "a"
   ]
  },
  {
   "cell_type": "code",
   "execution_count": 27,
   "id": "cd3a81a8-905f-40b4-93d8-bf3bd181f6dc",
   "metadata": {},
   "outputs": [
    {
     "data": {
      "text/plain": [
       "<tf.Variable 'UnreadVariable' shape=(4,) dtype=int32, numpy=array([2, 3, 8, 5], dtype=int32)>"
      ]
     },
     "execution_count": 27,
     "metadata": {},
     "output_type": "execute_result"
    }
   ],
   "source": [
    "a.assign([2,3,8,5])"
   ]
  },
  {
   "cell_type": "code",
   "execution_count": 28,
   "id": "d6077086-c60e-4b56-8df3-8d87037a9ad5",
   "metadata": {},
   "outputs": [
    {
     "data": {
      "text/plain": [
       "<tf.Variable 'Variable:0' shape=(4,) dtype=int32, numpy=array([2, 3, 8, 5], dtype=int32)>"
      ]
     },
     "execution_count": 28,
     "metadata": {},
     "output_type": "execute_result"
    }
   ],
   "source": [
    "a"
   ]
  },
  {
   "cell_type": "markdown",
   "id": "cb506212-3648-4676-8820-ed06e66e367a",
   "metadata": {},
   "source": [
    "# Assign Variable with another Memory"
   ]
  },
  {
   "cell_type": "code",
   "execution_count": 29,
   "id": "dfe8a219-4ad6-4ae7-a0c2-4166665661dc",
   "metadata": {},
   "outputs": [
    {
     "data": {
      "text/plain": [
       "<tf.Variable 'UnreadVariable' shape=(4,) dtype=int32, numpy=array([ 4,  6, 16, 10], dtype=int32)>"
      ]
     },
     "execution_count": 29,
     "metadata": {},
     "output_type": "execute_result"
    }
   ],
   "source": [
    "a.assign_add([2,3,8,5])"
   ]
  },
  {
   "cell_type": "code",
   "execution_count": 30,
   "id": "674674f9-1632-4701-b919-a3a018535e1e",
   "metadata": {},
   "outputs": [
    {
     "data": {
      "text/plain": [
       "<tf.Variable 'Variable:0' shape=(4,) dtype=int32, numpy=array([ 4,  6, 16, 10], dtype=int32)>"
      ]
     },
     "execution_count": 30,
     "metadata": {},
     "output_type": "execute_result"
    }
   ],
   "source": [
    "a"
   ]
  },
  {
   "cell_type": "code",
   "execution_count": null,
   "id": "1681df73-0521-4fef-bdf0-0fd2323cdc26",
   "metadata": {},
   "outputs": [],
   "source": []
  }
 ],
 "metadata": {
  "kernelspec": {
   "display_name": "Python 3 (ipykernel)",
   "language": "python",
   "name": "python3"
  },
  "language_info": {
   "codemirror_mode": {
    "name": "ipython",
    "version": 3
   },
   "file_extension": ".py",
   "mimetype": "text/x-python",
   "name": "python",
   "nbconvert_exporter": "python",
   "pygments_lexer": "ipython3",
   "version": "3.11.7"
  }
 },
 "nbformat": 4,
 "nbformat_minor": 5
}
