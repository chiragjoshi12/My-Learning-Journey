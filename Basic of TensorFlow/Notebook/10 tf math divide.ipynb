{
 "cells": [
  {
   "cell_type": "markdown",
   "id": "96546692-60d3-4567-ac93-9040df843a26",
   "metadata": {},
   "source": [
    "# How To Do Division/Divide Of Tensors In TensorFlow?"
   ]
  },
  {
   "cell_type": "markdown",
   "id": "55f52a66-1d39-4c9d-b41c-4843b034cc2b",
   "metadata": {},
   "source": [
    "**tf.divide() :** Do Element wise division,\n",
    "It can be divide scaler, Numpy array but not with list, tuple.\n",
    "tf variable/constant/placeholder/SparceMatrix with each other and with scaler and with list/tuple\n",
    "\n",
    "**Note :** / or // operator can be use to divide 2 tensors"
   ]
  },
  {
   "cell_type": "code",
   "execution_count": 1,
   "id": "1351c02e-796e-4590-9026-3183789f7965",
   "metadata": {},
   "outputs": [
    {
     "name": "stderr",
     "output_type": "stream",
     "text": [
      "2024-04-22 17:41:39.608068: I tensorflow/core/platform/cpu_feature_guard.cc:182] This TensorFlow binary is optimized to use available CPU instructions in performance-critical operations.\n",
      "To enable the following instructions: SSE4.1 SSE4.2 AVX AVX2 FMA, in other operations, rebuild TensorFlow with the appropriate compiler flags.\n"
     ]
    }
   ],
   "source": [
    "# import module\n",
    "import tensorflow as tf\n",
    "import numpy as np"
   ]
  },
  {
   "cell_type": "markdown",
   "id": "2151f010-4bf2-46a9-a4d7-5dddee5f6e95",
   "metadata": {},
   "source": [
    "## Scaler division"
   ]
  },
  {
   "cell_type": "code",
   "execution_count": 4,
   "id": "a43ab2ee-1fad-45a1-9a6d-69ac7bd4e82a",
   "metadata": {},
   "outputs": [],
   "source": [
    "a = 20\n",
    "b = 2"
   ]
  },
  {
   "cell_type": "code",
   "execution_count": 5,
   "id": "addc1433-519f-47b2-9e0e-27f0cf544bd5",
   "metadata": {},
   "outputs": [
    {
     "data": {
      "text/plain": [
       "10.0"
      ]
     },
     "execution_count": 5,
     "metadata": {},
     "output_type": "execute_result"
    }
   ],
   "source": [
    "a/b"
   ]
  },
  {
   "cell_type": "code",
   "execution_count": 6,
   "id": "fb0a2a8a-7548-4c35-b21f-19c062168817",
   "metadata": {},
   "outputs": [
    {
     "data": {
      "text/plain": [
       "<tf.Tensor: shape=(), dtype=float64, numpy=10.0>"
      ]
     },
     "execution_count": 6,
     "metadata": {},
     "output_type": "execute_result"
    }
   ],
   "source": [
    "tf.divide(a,b)"
   ]
  },
  {
   "cell_type": "markdown",
   "id": "ca8a0ffe-22ef-4f25-9ad8-1364ebb83ee0",
   "metadata": {},
   "source": [
    "## divide 2 List"
   ]
  },
  {
   "cell_type": "code",
   "execution_count": 9,
   "id": "b32f8258-de2a-4b33-9c4e-7c16368ae8c1",
   "metadata": {},
   "outputs": [
    {
     "data": {
      "text/plain": [
       "<tf.Tensor: shape=(4,), dtype=float64, numpy=array([3., 2., 4., 2.])>"
      ]
     },
     "execution_count": 9,
     "metadata": {},
     "output_type": "execute_result"
    }
   ],
   "source": [
    "l1 = [3,4,2,6]\n",
    "l2 = [9,8,8,12]\n",
    "\n",
    "tf.divide(l2,l1)"
   ]
  },
  {
   "cell_type": "markdown",
   "id": "81bd8d22-c378-431b-b07c-c5f578848543",
   "metadata": {},
   "source": [
    "## divide Tuple"
   ]
  },
  {
   "cell_type": "code",
   "execution_count": 10,
   "id": "b90fb953-cf88-41b6-8929-fc243820b52c",
   "metadata": {},
   "outputs": [
    {
     "data": {
      "text/plain": [
       "<tf.Tensor: shape=(3,), dtype=float64, numpy=array([0.25, 0.4 , 0.5 ])>"
      ]
     },
     "execution_count": 10,
     "metadata": {},
     "output_type": "execute_result"
    }
   ],
   "source": [
    "t1 = (1,2,3)\n",
    "t2 = (4,5,6)\n",
    "\n",
    "tf.divide(t1,t2)"
   ]
  },
  {
   "cell_type": "markdown",
   "id": "3cfe182c-59fd-4b8d-9e26-a2b72b762394",
   "metadata": {},
   "source": [
    "## divide List/Tuple with scaler"
   ]
  },
  {
   "cell_type": "code",
   "execution_count": 12,
   "id": "dc081c93-3a97-4503-a41a-e9530c0dc9e2",
   "metadata": {},
   "outputs": [
    {
     "data": {
      "text/plain": [
       "<tf.Tensor: shape=(4,), dtype=float64, numpy=array([3., 2., 4., 2.])>"
      ]
     },
     "execution_count": 12,
     "metadata": {},
     "output_type": "execute_result"
    }
   ],
   "source": [
    "l1 = [9,8,8,12]\n",
    "t1 = (3,4,2,6)\n",
    "\n",
    "tf.divide(l1,t1)"
   ]
  },
  {
   "cell_type": "markdown",
   "id": "db638bf4-ea03-497d-ae2d-bf92e66f7f4c",
   "metadata": {},
   "source": [
    "## divide 2 Numpy array"
   ]
  },
  {
   "cell_type": "code",
   "execution_count": 14,
   "id": "193aa1cd-d014-448a-a965-e36a578aaad4",
   "metadata": {},
   "outputs": [
    {
     "data": {
      "text/plain": [
       "<tf.Tensor: shape=(4,), dtype=float64, numpy=array([1., 1., 1., 1.])>"
      ]
     },
     "execution_count": 14,
     "metadata": {},
     "output_type": "execute_result"
    }
   ],
   "source": [
    "npa1 = np.array([1,2,3,4])\n",
    "npa2 = np.array([1,2,3,4])\n",
    "\n",
    "tf.divide(npa1,npa2)"
   ]
  },
  {
   "cell_type": "markdown",
   "id": "ecc621e5-4a8d-4142-8be9-d1d4101963a9",
   "metadata": {},
   "source": [
    "## divide 2 tf.ones()"
   ]
  },
  {
   "cell_type": "code",
   "execution_count": 15,
   "id": "485fec48-d309-4534-90b3-779565f20fc3",
   "metadata": {},
   "outputs": [
    {
     "data": {
      "text/plain": [
       "<tf.Tensor: shape=(2, 2, 2), dtype=float32, numpy=\n",
       "array([[[1., 1.],\n",
       "        [1., 1.]],\n",
       "\n",
       "       [[1., 1.],\n",
       "        [1., 1.]]], dtype=float32)>"
      ]
     },
     "execution_count": 15,
     "metadata": {},
     "output_type": "execute_result"
    }
   ],
   "source": [
    "to1 = tf.ones((2,2,2))\n",
    "to2 = tf.ones((2,2,2))\n",
    "\n",
    "tf.divide(to1, to2)"
   ]
  },
  {
   "cell_type": "markdown",
   "id": "6f2f1060-8497-4e0a-8390-aedc3d82e284",
   "metadata": {},
   "source": [
    "## divide 2d array"
   ]
  },
  {
   "cell_type": "code",
   "execution_count": 18,
   "id": "7cff7b11-9a74-49a6-8eec-4e171c9ce297",
   "metadata": {},
   "outputs": [
    {
     "data": {
      "text/plain": [
       "<tf.Tensor: shape=(2, 3), dtype=float64, numpy=\n",
       "array([[0.33333333, 1.        , 1.        ],\n",
       "       [1.        , 1.        , 1.        ]])>"
      ]
     },
     "execution_count": 18,
     "metadata": {},
     "output_type": "execute_result"
    }
   ],
   "source": [
    "np_2da1 = np.array([[1,2,3],[2,3,4]])\n",
    "np_2da2 = np.array([[3,2,3],[2,3,4]])\n",
    "\n",
    "tf.divide(np_2da1, np_2da2)"
   ]
  },
  {
   "cell_type": "code",
   "execution_count": 25,
   "id": "19a0dbee-4506-44fb-959c-7c47d8dae37a",
   "metadata": {},
   "outputs": [
    {
     "data": {
      "text/plain": [
       "array([[0, 1, 1],\n",
       "       [1, 1, 1]])"
      ]
     },
     "execution_count": 25,
     "metadata": {},
     "output_type": "execute_result"
    }
   ],
   "source": [
    "np_2da1 // np_2da2"
   ]
  },
  {
   "cell_type": "code",
   "execution_count": 24,
   "id": "3358eb72-262b-4b76-8412-60fea80d18d6",
   "metadata": {},
   "outputs": [
    {
     "data": {
      "text/plain": [
       "<tf.Tensor: shape=(3,), dtype=float64, numpy=array([0.25, 0.5 , 0.75])>"
      ]
     },
     "execution_count": 24,
     "metadata": {},
     "output_type": "execute_result"
    }
   ],
   "source": [
    "t1 = (1,2,3)\n",
    "t2 = 4\n",
    "\n",
    "tf.divide(t1,t2)"
   ]
  },
  {
   "cell_type": "code",
   "execution_count": null,
   "id": "3c1c9333-05ad-4a17-89fb-e095b34b2d1c",
   "metadata": {},
   "outputs": [],
   "source": []
  }
 ],
 "metadata": {
  "kernelspec": {
   "display_name": "Python 3 (ipykernel)",
   "language": "python",
   "name": "python3"
  },
  "language_info": {
   "codemirror_mode": {
    "name": "ipython",
    "version": 3
   },
   "file_extension": ".py",
   "mimetype": "text/x-python",
   "name": "python",
   "nbconvert_exporter": "python",
   "pygments_lexer": "ipython3",
   "version": "3.11.5"
  }
 },
 "nbformat": 4,
 "nbformat_minor": 5
}
