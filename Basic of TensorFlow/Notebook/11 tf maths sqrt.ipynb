{
 "cells": [
  {
   "cell_type": "markdown",
   "id": "19073857-2f40-4869-8a9c-de1e5eb7fe3c",
   "metadata": {},
   "source": [
    "## How To Calculate Square Root Of Tensors In TensorFlow?"
   ]
  },
  {
   "cell_type": "markdown",
   "id": "75467270-966d-49dd-9eae-4f460069b948",
   "metadata": {},
   "source": [
    "**tf.sqrt() :** Calculate Element wise square root of numpy array and TF tensor,\n",
    "It can be give sqrt of list, tuple, scaler\n",
    "It allow tf variable/constant/placeholder/SparceMatrix with Specific datatype\n",
    "\n",
    "Data Type : bfloat16, half, float32, float64, complex64, complex128.\n",
    "\n",
    "**Note:** Don’t give ‘int’ data type, tf.sqrt() will through error"
   ]
  },
  {
   "cell_type": "code",
   "execution_count": 1,
   "id": "686b78b2-f15e-4fde-8a34-559fc41d3ee8",
   "metadata": {},
   "outputs": [
    {
     "name": "stderr",
     "output_type": "stream",
     "text": [
      "2024-04-22 18:07:20.016151: I tensorflow/core/platform/cpu_feature_guard.cc:182] This TensorFlow binary is optimized to use available CPU instructions in performance-critical operations.\n",
      "To enable the following instructions: SSE4.1 SSE4.2 AVX AVX2 FMA, in other operations, rebuild TensorFlow with the appropriate compiler flags.\n"
     ]
    }
   ],
   "source": [
    "# import module\n",
    "\n",
    "import tensorflow as tf\n",
    "import numpy as np"
   ]
  },
  {
   "cell_type": "markdown",
   "id": "668f616b-e999-45ce-bc5a-e43d51c6b174",
   "metadata": {},
   "source": [
    "## Square Root of Scaler"
   ]
  },
  {
   "cell_type": "code",
   "execution_count": 11,
   "id": "3b280326-ad8f-4881-b34c-9b61fc7fe7d0",
   "metadata": {},
   "outputs": [],
   "source": [
    "a = 9.0"
   ]
  },
  {
   "cell_type": "code",
   "execution_count": 12,
   "id": "0b1dc2d5-261f-4df6-994f-8923a1ea488b",
   "metadata": {},
   "outputs": [
    {
     "data": {
      "text/plain": [
       "<tf.Tensor: shape=(), dtype=float32, numpy=3.0>"
      ]
     },
     "execution_count": 12,
     "metadata": {},
     "output_type": "execute_result"
    }
   ],
   "source": [
    "tf.sqrt(a)"
   ]
  },
  {
   "cell_type": "markdown",
   "id": "3fdadd86-95f0-4f70-a1bf-ed3efbc00c07",
   "metadata": {},
   "source": [
    "## Square root of List"
   ]
  },
  {
   "cell_type": "code",
   "execution_count": 23,
   "id": "cdf5376a-81dd-4304-a8fb-3578b8c12288",
   "metadata": {},
   "outputs": [
    {
     "data": {
      "text/plain": [
       "<tf.Tensor: shape=(5,), dtype=float32, numpy=array([2., 3., 4., 5., 6.], dtype=float32)>"
      ]
     },
     "execution_count": 23,
     "metadata": {},
     "output_type": "execute_result"
    }
   ],
   "source": [
    "l1 = [4.0,9.0,16.0,25.0,36.0]\n",
    "\n",
    "tf.sqrt(l1)"
   ]
  },
  {
   "cell_type": "markdown",
   "id": "1995116c-9ccd-48bc-b24a-443783e55405",
   "metadata": {},
   "source": [
    "## Square Root of Tuple"
   ]
  },
  {
   "cell_type": "code",
   "execution_count": 25,
   "id": "bd6d2c0d-def2-4aa0-be31-0aae8197d61d",
   "metadata": {},
   "outputs": [
    {
     "data": {
      "text/plain": [
       "<tf.Tensor: shape=(5,), dtype=float32, numpy=array([2., 3., 4., 5., 6.], dtype=float32)>"
      ]
     },
     "execution_count": 25,
     "metadata": {},
     "output_type": "execute_result"
    }
   ],
   "source": [
    "t1 = (4.0,9.0,16.0,25.0,36.0)\n",
    "\n",
    "tf.sqrt(t1)"
   ]
  },
  {
   "cell_type": "markdown",
   "id": "be17c9ca-cb46-4ca1-a5a7-927d65d7ae74",
   "metadata": {},
   "source": [
    "## Square Root of Numpy Array"
   ]
  },
  {
   "cell_type": "code",
   "execution_count": 27,
   "id": "b351ffb7-826a-4659-8eff-c3ac169754c1",
   "metadata": {},
   "outputs": [
    {
     "data": {
      "text/plain": [
       "<tf.Tensor: shape=(3,), dtype=float64, numpy=array([2., 3., 4.])>"
      ]
     },
     "execution_count": 27,
     "metadata": {},
     "output_type": "execute_result"
    }
   ],
   "source": [
    "npa1 = np.array([4,9,16], dtype=np.float64)\n",
    "\n",
    "tf.sqrt(npa1)"
   ]
  },
  {
   "cell_type": "code",
   "execution_count": 29,
   "id": "338c374e-ffd7-43ef-9205-89243273f5f1",
   "metadata": {},
   "outputs": [
    {
     "data": {
      "text/plain": [
       "dtype('float64')"
      ]
     },
     "execution_count": 29,
     "metadata": {},
     "output_type": "execute_result"
    }
   ],
   "source": [
    "npa1.dtype"
   ]
  },
  {
   "cell_type": "markdown",
   "id": "d282603f-ccf1-455f-96a5-274f79b6e4fd",
   "metadata": {},
   "source": [
    "## Square Root of Tensor"
   ]
  },
  {
   "cell_type": "code",
   "execution_count": 31,
   "id": "cf62a3c0-15d6-447d-a3da-11eaf7645f7b",
   "metadata": {},
   "outputs": [
    {
     "data": {
      "text/plain": [
       "<tf.Tensor: shape=(), dtype=float32, numpy=2.0>"
      ]
     },
     "execution_count": 31,
     "metadata": {},
     "output_type": "execute_result"
    }
   ],
   "source": [
    "tf.sqrt(tf.convert_to_tensor(4, dtype='float'))"
   ]
  },
  {
   "cell_type": "code",
   "execution_count": 34,
   "id": "ac3091b1-7e0a-41bb-9bba-77fb35b95505",
   "metadata": {},
   "outputs": [],
   "source": [
    "tf_V = tf.Variable((4,9), dtype='float')"
   ]
  },
  {
   "cell_type": "code",
   "execution_count": 35,
   "id": "9842405e-1718-4be6-afb6-38f48c5341fa",
   "metadata": {},
   "outputs": [
    {
     "data": {
      "text/plain": [
       "<tf.Tensor: shape=(2,), dtype=float32, numpy=array([2., 3.], dtype=float32)>"
      ]
     },
     "execution_count": 35,
     "metadata": {},
     "output_type": "execute_result"
    }
   ],
   "source": [
    "tf.sqrt(tf_V)"
   ]
  },
  {
   "cell_type": "code",
   "execution_count": 36,
   "id": "bc106f17-ee01-4bad-8e53-12454dcba13f",
   "metadata": {},
   "outputs": [],
   "source": [
    "tf_2d_V = tf.Variable(([[4,9],[16,25]]), dtype='float')"
   ]
  },
  {
   "cell_type": "code",
   "execution_count": 37,
   "id": "56b8023e-f6ce-4d70-be79-4446e83f9282",
   "metadata": {},
   "outputs": [
    {
     "data": {
      "text/plain": [
       "<tf.Tensor: shape=(2, 2), dtype=float32, numpy=\n",
       "array([[2., 3.],\n",
       "       [4., 5.]], dtype=float32)>"
      ]
     },
     "execution_count": 37,
     "metadata": {},
     "output_type": "execute_result"
    }
   ],
   "source": [
    "tf.sqrt(tf_2d_V)"
   ]
  },
  {
   "cell_type": "code",
   "execution_count": null,
   "id": "ee94c892-7125-4733-aa1d-99bb4eb5a870",
   "metadata": {},
   "outputs": [],
   "source": []
  }
 ],
 "metadata": {
  "kernelspec": {
   "display_name": "Python 3 (ipykernel)",
   "language": "python",
   "name": "python3"
  },
  "language_info": {
   "codemirror_mode": {
    "name": "ipython",
    "version": 3
   },
   "file_extension": ".py",
   "mimetype": "text/x-python",
   "name": "python",
   "nbconvert_exporter": "python",
   "pygments_lexer": "ipython3",
   "version": "3.11.5"
  }
 },
 "nbformat": 4,
 "nbformat_minor": 5
}
