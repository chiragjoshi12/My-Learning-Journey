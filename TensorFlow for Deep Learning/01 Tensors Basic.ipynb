{
 "cells": [
  {
   "cell_type": "code",
   "execution_count": 1,
   "id": "92acefad-5dee-4e76-9ec6-e0fd861237fb",
   "metadata": {},
   "outputs": [
    {
     "name": "stderr",
     "output_type": "stream",
     "text": [
      "2024-04-23 14:07:23.473312: I tensorflow/core/platform/cpu_feature_guard.cc:182] This TensorFlow binary is optimized to use available CPU instructions in performance-critical operations.\n",
      "To enable the following instructions: SSE4.1 SSE4.2 AVX AVX2 FMA, in other operations, rebuild TensorFlow with the appropriate compiler flags.\n"
     ]
    }
   ],
   "source": [
    "import tensorflow as tf"
   ]
  },
  {
   "cell_type": "markdown",
   "id": "980a3a2c-6526-4ab0-99bf-e036c7b9cc3d",
   "metadata": {},
   "source": [
    "## 1. create tensors"
   ]
  },
  {
   "cell_type": "code",
   "execution_count": 8,
   "id": "9a8a806e-f7d0-49df-82f6-2047a62720a3",
   "metadata": {},
   "outputs": [
    {
     "name": "stdout",
     "output_type": "stream",
     "text": [
      "tf.Tensor(4, shape=(), dtype=int32)\n"
     ]
    }
   ],
   "source": [
    "# scalar, rank-0 tensor\n",
    "x = tf.constant(4)\n",
    "print(x)"
   ]
  },
  {
   "cell_type": "code",
   "execution_count": 9,
   "id": "de0c655e-0ac7-4038-be50-b0cef58f2e00",
   "metadata": {},
   "outputs": [
    {
     "name": "stdout",
     "output_type": "stream",
     "text": [
      "tf.Tensor([[4.]], shape=(1, 1), dtype=float32)\n"
     ]
    }
   ],
   "source": [
    "x = tf.constant(4, shape=(1,1), dtype=tf.float32)\n",
    "print(x)"
   ]
  },
  {
   "cell_type": "code",
   "execution_count": 10,
   "id": "d8a839e2-6c1b-4be8-8052-38d28245405a",
   "metadata": {},
   "outputs": [
    {
     "name": "stdout",
     "output_type": "stream",
     "text": [
      "tf.Tensor([1 2 3], shape=(3,), dtype=int32)\n"
     ]
    }
   ],
   "source": [
    "# vector, rank-1\n",
    "x = tf.constant([1,2,3])\n",
    "print(x)"
   ]
  },
  {
   "cell_type": "code",
   "execution_count": 11,
   "id": "d24e8cbe-6e6c-437b-b43b-b75409e31af0",
   "metadata": {},
   "outputs": [
    {
     "name": "stdout",
     "output_type": "stream",
     "text": [
      "tf.Tensor(\n",
      "[[1 2 3]\n",
      " [4 5 6]], shape=(2, 3), dtype=int32)\n"
     ]
    }
   ],
   "source": [
    "# matrix, rank-2\n",
    "x = tf.constant([[1,2,3], [4,5,6]])\n",
    "print(x)"
   ]
  },
  {
   "cell_type": "code",
   "execution_count": 12,
   "id": "fcb77882-7ad8-4803-a9a5-98f97b49281a",
   "metadata": {},
   "outputs": [
    {
     "name": "stdout",
     "output_type": "stream",
     "text": [
      "tf.Tensor(\n",
      "[[1. 1. 1.]\n",
      " [1. 1. 1.]\n",
      " [1. 1. 1.]], shape=(3, 3), dtype=float32)\n"
     ]
    }
   ],
   "source": [
    "x = tf.ones((3,3))\n",
    "print(x)"
   ]
  },
  {
   "cell_type": "code",
   "execution_count": 13,
   "id": "b8bc9069-bca3-422f-afca-29338201176e",
   "metadata": {},
   "outputs": [
    {
     "name": "stdout",
     "output_type": "stream",
     "text": [
      "tf.Tensor(\n",
      "[[0. 0. 0.]\n",
      " [0. 0. 0.]\n",
      " [0. 0. 0.]], shape=(3, 3), dtype=float32)\n"
     ]
    }
   ],
   "source": [
    "x = tf.zeros((3,3))\n",
    "print(x)"
   ]
  },
  {
   "cell_type": "code",
   "execution_count": 14,
   "id": "22eeec80-2b7f-4aa7-bf94-1d60b032a679",
   "metadata": {},
   "outputs": [
    {
     "name": "stdout",
     "output_type": "stream",
     "text": [
      "tf.Tensor(\n",
      "[[1. 0. 0.]\n",
      " [0. 1. 0.]\n",
      " [0. 0. 1.]], shape=(3, 3), dtype=float32)\n"
     ]
    }
   ],
   "source": [
    "x = tf.eye(3)\n",
    "print(x)"
   ]
  },
  {
   "cell_type": "code",
   "execution_count": 15,
   "id": "dc80d617-79f7-4793-adc1-a05a93c58a06",
   "metadata": {},
   "outputs": [
    {
     "name": "stdout",
     "output_type": "stream",
     "text": [
      "tf.Tensor(\n",
      "[[-0.19592357  0.71280575  0.20270513]\n",
      " [ 0.19291319  0.709191    0.69199914]\n",
      " [ 0.22565857 -1.2233511  -0.43106076]], shape=(3, 3), dtype=float32)\n"
     ]
    }
   ],
   "source": [
    "x = tf.random.normal((3,3), mean=0, stddev=1)\n",
    "print(x)"
   ]
  },
  {
   "cell_type": "code",
   "execution_count": 16,
   "id": "828b82ef-b1e0-46e3-916e-9a8a1cb3d134",
   "metadata": {},
   "outputs": [
    {
     "name": "stdout",
     "output_type": "stream",
     "text": [
      "tf.Tensor(\n",
      "[[0.56178117 0.07077396 0.17482638]\n",
      " [0.09750521 0.18293726 0.93476677]\n",
      " [0.2810576  0.71753883 0.04992294]], shape=(3, 3), dtype=float32)\n"
     ]
    }
   ],
   "source": [
    "x = tf.random.uniform((3,3), minval=0, maxval=1)\n",
    "print(x)"
   ]
  },
  {
   "cell_type": "code",
   "execution_count": 18,
   "id": "ab36aae1-3d91-441f-b4ec-e049f945a99c",
   "metadata": {},
   "outputs": [
    {
     "name": "stdout",
     "output_type": "stream",
     "text": [
      "tf.Tensor([0 1 2 3 4 5 6 7 8 9], shape=(10,), dtype=int32)\n"
     ]
    }
   ],
   "source": [
    "x = tf.range(10)\n",
    "print(x)"
   ]
  },
  {
   "cell_type": "markdown",
   "id": "aebb7a16-7b84-4b74-a73c-b92d8eca2726",
   "metadata": {},
   "source": [
    "## 2. cast"
   ]
  },
  {
   "cell_type": "code",
   "execution_count": 19,
   "id": "72905e57-002a-4b82-9ac9-cb63e2a3b284",
   "metadata": {},
   "outputs": [
    {
     "name": "stdout",
     "output_type": "stream",
     "text": [
      "tf.Tensor([0. 1. 2. 3. 4. 5. 6. 7. 8. 9.], shape=(10,), dtype=float32)\n"
     ]
    }
   ],
   "source": [
    "x = tf.cast(x, dtype=tf.float32)\n",
    "print(x)"
   ]
  },
  {
   "cell_type": "markdown",
   "id": "ae3aa2ce-fc94-49b4-be24-d276deed4f87",
   "metadata": {},
   "source": [
    "## 3. operations"
   ]
  },
  {
   "cell_type": "code",
   "execution_count": 20,
   "id": "59388550-d95f-4dbb-829e-ef80c985598c",
   "metadata": {},
   "outputs": [],
   "source": [
    "# elementwise\n",
    "\n",
    "x = tf.constant([1,2,3])\n",
    "y = tf.constant([4,5,6])"
   ]
  },
  {
   "cell_type": "code",
   "execution_count": 23,
   "id": "3f4292fc-de08-49f9-9f77-c0095b29634e",
   "metadata": {},
   "outputs": [
    {
     "data": {
      "text/plain": [
       "<tf.Tensor: shape=(3,), dtype=int32, numpy=array([5, 7, 9], dtype=int32)>"
      ]
     },
     "execution_count": 23,
     "metadata": {},
     "output_type": "execute_result"
    }
   ],
   "source": [
    "z = tf.add(x,y)\n",
    "z"
   ]
  },
  {
   "cell_type": "code",
   "execution_count": 24,
   "id": "0c0173b7-2c3e-4eb1-a932-f631eed87f5e",
   "metadata": {},
   "outputs": [
    {
     "data": {
      "text/plain": [
       "<tf.Tensor: shape=(3,), dtype=int32, numpy=array([-3, -3, -3], dtype=int32)>"
      ]
     },
     "execution_count": 24,
     "metadata": {},
     "output_type": "execute_result"
    }
   ],
   "source": [
    "z = tf.subtract(x,y)\n",
    "z"
   ]
  },
  {
   "cell_type": "code",
   "execution_count": 25,
   "id": "86c2ddce-96f0-471a-9d6f-d193ba6b6a54",
   "metadata": {},
   "outputs": [
    {
     "data": {
      "text/plain": [
       "<tf.Tensor: shape=(3,), dtype=float64, numpy=array([0.25, 0.4 , 0.5 ])>"
      ]
     },
     "execution_count": 25,
     "metadata": {},
     "output_type": "execute_result"
    }
   ],
   "source": [
    "z = tf.divide(x,y)\n",
    "z"
   ]
  },
  {
   "cell_type": "code",
   "execution_count": 28,
   "id": "caaee895-0941-491c-b704-143254e7bd24",
   "metadata": {},
   "outputs": [
    {
     "data": {
      "text/plain": [
       "<tf.Tensor: shape=(3,), dtype=int32, numpy=array([ 4, 10, 18], dtype=int32)>"
      ]
     },
     "execution_count": 28,
     "metadata": {},
     "output_type": "execute_result"
    }
   ],
   "source": [
    "z = tf.multiply(x,y)\n",
    "z"
   ]
  },
  {
   "cell_type": "code",
   "execution_count": 31,
   "id": "49a69b8a-e325-4a42-8ef4-35b5d5129fd1",
   "metadata": {},
   "outputs": [
    {
     "name": "stdout",
     "output_type": "stream",
     "text": [
      "tf.Tensor(32, shape=(), dtype=int32)\n"
     ]
    }
   ],
   "source": [
    "# dot product\n",
    "x = tf.constant([1,2,3])\n",
    "y = tf.constant([4,5,6])\n",
    "\n",
    "z = tf.tensordot(x,y, axes=1)\n",
    "print(z)\n",
    "\n",
    "# sum of all multiplication"
   ]
  },
  {
   "cell_type": "code",
   "execution_count": 33,
   "id": "1041c2dd-0a20-45ad-8e2f-81710c54688e",
   "metadata": {},
   "outputs": [
    {
     "name": "stdout",
     "output_type": "stream",
     "text": [
      "tf.Tensor([1 4 9], shape=(3,), dtype=int32)\n"
     ]
    }
   ],
   "source": [
    "# elementwise exponentiate\n",
    "z = x ** 2\n",
    "print(z)"
   ]
  },
  {
   "cell_type": "code",
   "execution_count": 42,
   "id": "ec1623ea-bfc4-4f81-b88e-35e280f5d084",
   "metadata": {},
   "outputs": [],
   "source": [
    "# matrix multiplication\n",
    "\n",
    "x = tf.random.normal((2,2))\n",
    "y = tf.random.normal((2,2))"
   ]
  },
  {
   "cell_type": "code",
   "execution_count": 43,
   "id": "02f1167f-9b09-4c85-8746-4bb03cb808d3",
   "metadata": {},
   "outputs": [
    {
     "data": {
      "text/plain": [
       "<tf.Tensor: shape=(2, 2), dtype=float32, numpy=\n",
       "array([[0.06671553, 0.00995909],\n",
       "       [0.86943346, 1.7938937 ]], dtype=float32)>"
      ]
     },
     "execution_count": 43,
     "metadata": {},
     "output_type": "execute_result"
    }
   ],
   "source": [
    "x"
   ]
  },
  {
   "cell_type": "code",
   "execution_count": 44,
   "id": "4556f6bf-f07f-41e3-9701-7cd59b9868f0",
   "metadata": {},
   "outputs": [
    {
     "data": {
      "text/plain": [
       "<tf.Tensor: shape=(2, 2), dtype=float32, numpy=\n",
       "array([[-1.0974464,  1.0687774],\n",
       "       [-1.4200546,  1.4370403]], dtype=float32)>"
      ]
     },
     "execution_count": 44,
     "metadata": {},
     "output_type": "execute_result"
    }
   ],
   "source": [
    "y"
   ]
  },
  {
   "cell_type": "code",
   "execution_count": 45,
   "id": "ce6a62d4-117d-46f1-91b0-6cec1da85941",
   "metadata": {},
   "outputs": [
    {
     "data": {
      "text/plain": [
       "<tf.Tensor: shape=(2, 2), dtype=float32, numpy=\n",
       "array([[-0.08735917,  0.08561566],\n",
       "       [-3.5015836 ,  3.5071285 ]], dtype=float32)>"
      ]
     },
     "execution_count": 45,
     "metadata": {},
     "output_type": "execute_result"
    }
   ],
   "source": [
    "tf.matmul(x,y)"
   ]
  },
  {
   "cell_type": "markdown",
   "id": "0c486ed9-11b0-4b4a-bf7f-cb7fe01cba49",
   "metadata": {},
   "source": [
    "## 4. indexing, slicing"
   ]
  },
  {
   "cell_type": "code",
   "execution_count": 51,
   "id": "18f09c0f-1de7-46f0-a6a2-08ccd1a60874",
   "metadata": {},
   "outputs": [],
   "source": [
    "x = tf.constant([[1,2,3,4],[5,6,7,8]])"
   ]
  },
  {
   "cell_type": "code",
   "execution_count": 52,
   "id": "63876cba-7b56-4564-b209-f0f68ebd0ddc",
   "metadata": {},
   "outputs": [
    {
     "name": "stdout",
     "output_type": "stream",
     "text": [
      "tf.Tensor([1 2 3 4], shape=(4,), dtype=int32)\n"
     ]
    }
   ],
   "source": [
    "print(x[0])"
   ]
  },
  {
   "cell_type": "code",
   "execution_count": 54,
   "id": "c972d3af-7627-4f3a-8a29-23416f9d5043",
   "metadata": {},
   "outputs": [
    {
     "name": "stdout",
     "output_type": "stream",
     "text": [
      "tf.Tensor([1 5], shape=(2,), dtype=int32)\n"
     ]
    }
   ],
   "source": [
    "print(x[:, 0])"
   ]
  },
  {
   "cell_type": "code",
   "execution_count": 59,
   "id": "39900149-16f1-49e8-b161-12bf72d82b0e",
   "metadata": {},
   "outputs": [
    {
     "name": "stdout",
     "output_type": "stream",
     "text": [
      "tf.Tensor([5 6 7 8], shape=(4,), dtype=int32)\n"
     ]
    }
   ],
   "source": [
    "print(x[1, :])"
   ]
  },
  {
   "cell_type": "code",
   "execution_count": 60,
   "id": "38938137-aa64-47e1-ad91-63e6e692905c",
   "metadata": {},
   "outputs": [
    {
     "name": "stdout",
     "output_type": "stream",
     "text": [
      "tf.Tensor(6, shape=(), dtype=int32)\n"
     ]
    }
   ],
   "source": [
    "print(x[1,1])"
   ]
  },
  {
   "cell_type": "markdown",
   "id": "635c6554-873e-40bb-ac76-9efc03bdbc5e",
   "metadata": {},
   "source": [
    "## 5. reshape"
   ]
  },
  {
   "cell_type": "code",
   "execution_count": 75,
   "id": "0411b227-4e12-4a83-b00f-3c9f9649205c",
   "metadata": {},
   "outputs": [
    {
     "data": {
      "text/plain": [
       "<tf.Tensor: shape=(2, 3), dtype=float32, numpy=\n",
       "array([[1., 1., 1.],\n",
       "       [1., 1., 1.]], dtype=float32)>"
      ]
     },
     "execution_count": 75,
     "metadata": {},
     "output_type": "execute_result"
    }
   ],
   "source": [
    "y = tf.ones((2,3))\n",
    "y"
   ]
  },
  {
   "cell_type": "code",
   "execution_count": 90,
   "id": "82da4b6b-80a7-4b0b-b633-72b9cc8a79e3",
   "metadata": {},
   "outputs": [
    {
     "data": {
      "text/plain": [
       "<tf.Tensor: shape=(3, 2), dtype=float32, numpy=\n",
       "array([[1., 1.],\n",
       "       [1., 1.],\n",
       "       [1., 1.]], dtype=float32)>"
      ]
     },
     "execution_count": 90,
     "metadata": {},
     "output_type": "execute_result"
    }
   ],
   "source": [
    "x = tf.reshape(y, (3,2))\n",
    "x"
   ]
  },
  {
   "cell_type": "code",
   "execution_count": 89,
   "id": "7b62c5f2-e5bd-4846-9a7a-b56c2925846f",
   "metadata": {},
   "outputs": [
    {
     "data": {
      "text/plain": [
       "<tf.Tensor: shape=(6,), dtype=float32, numpy=array([1., 1., 1., 1., 1., 1.], dtype=float32)>"
      ]
     },
     "execution_count": 89,
     "metadata": {},
     "output_type": "execute_result"
    }
   ],
   "source": [
    "x = tf.reshape(y, (6))\n",
    "x"
   ]
  },
  {
   "cell_type": "code",
   "execution_count": 92,
   "id": "94032942-e281-4589-8aab-fc95ccd35d49",
   "metadata": {},
   "outputs": [
    {
     "data": {
      "text/plain": [
       "<tf.Tensor: shape=(3, 2), dtype=float32, numpy=\n",
       "array([[1., 1.],\n",
       "       [1., 1.],\n",
       "       [1., 1.]], dtype=float32)>"
      ]
     },
     "execution_count": 92,
     "metadata": {},
     "output_type": "execute_result"
    }
   ],
   "source": [
    "x = tf.reshape(y, (-1,2))\n",
    "x"
   ]
  },
  {
   "cell_type": "markdown",
   "id": "7b83682e-7a6c-4b58-a9ca-31a2c8be765d",
   "metadata": {},
   "source": [
    "## 6. numpy"
   ]
  },
  {
   "cell_type": "code",
   "execution_count": 118,
   "id": "edb9193f-3b11-4b9d-8ada-050ea602b2a6",
   "metadata": {},
   "outputs": [
    {
     "data": {
      "text/plain": [
       "<tf.Tensor: shape=(2, 3), dtype=float32, numpy=\n",
       "array([[1., 1., 1.],\n",
       "       [1., 1., 1.]], dtype=float32)>"
      ]
     },
     "execution_count": 118,
     "metadata": {},
     "output_type": "execute_result"
    }
   ],
   "source": [
    "x = tf.ones((2,3))\n",
    "x"
   ]
  },
  {
   "cell_type": "code",
   "execution_count": 120,
   "id": "75cb4927-95c8-4916-8278-6fe267fb2ff7",
   "metadata": {},
   "outputs": [
    {
     "data": {
      "text/plain": [
       "array([[1., 1., 1.],\n",
       "       [1., 1., 1.]], dtype=float32)"
      ]
     },
     "execution_count": 120,
     "metadata": {},
     "output_type": "execute_result"
    }
   ],
   "source": [
    "x = x.numpy()\n",
    "x"
   ]
  },
  {
   "cell_type": "code",
   "execution_count": 121,
   "id": "e69825ac-5e5e-4f07-adf6-00cbab066827",
   "metadata": {},
   "outputs": [
    {
     "data": {
      "text/plain": [
       "numpy.ndarray"
      ]
     },
     "execution_count": 121,
     "metadata": {},
     "output_type": "execute_result"
    }
   ],
   "source": [
    "type(x)"
   ]
  },
  {
   "cell_type": "code",
   "execution_count": 128,
   "id": "563c774e-7513-4ea1-a3fe-17be8b82a036",
   "metadata": {},
   "outputs": [
    {
     "data": {
      "text/plain": [
       "<tf.Tensor: shape=(1,), dtype=string, numpy=array([b'Patrick'], dtype=object)>"
      ]
     },
     "execution_count": 128,
     "metadata": {},
     "output_type": "execute_result"
    }
   ],
   "source": [
    "# string tensor\n",
    "x = tf.constant(([\"Patrick\"]))\n",
    "x"
   ]
  },
  {
   "cell_type": "code",
   "execution_count": 129,
   "id": "58c3c333-23f0-4f58-b64e-208d2d797b9d",
   "metadata": {},
   "outputs": [
    {
     "data": {
      "text/plain": [
       "<tf.Tensor: shape=(3,), dtype=string, numpy=array([b'Patrick', b'Max', b'Mary'], dtype=object)>"
      ]
     },
     "execution_count": 129,
     "metadata": {},
     "output_type": "execute_result"
    }
   ],
   "source": [
    "x = tf.constant([\"Patrick\", \"Max\", \"Mary\"])\n",
    "x"
   ]
  },
  {
   "cell_type": "code",
   "execution_count": null,
   "id": "98749621-6833-40bc-baac-91ba0751047e",
   "metadata": {},
   "outputs": [],
   "source": []
  },
  {
   "cell_type": "code",
   "execution_count": null,
   "id": "81e9e377-aebf-467c-ae1a-e1ad9a36ce84",
   "metadata": {},
   "outputs": [],
   "source": []
  }
 ],
 "metadata": {
  "kernelspec": {
   "display_name": "Python 3 (ipykernel)",
   "language": "python",
   "name": "python3"
  },
  "language_info": {
   "codemirror_mode": {
    "name": "ipython",
    "version": 3
   },
   "file_extension": ".py",
   "mimetype": "text/x-python",
   "name": "python",
   "nbconvert_exporter": "python",
   "pygments_lexer": "ipython3",
   "version": "3.11.5"
  }
 },
 "nbformat": 4,
 "nbformat_minor": 5
}
